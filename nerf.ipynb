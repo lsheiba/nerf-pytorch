{
 "cells": [
  {
   "cell_type": "code",
   "execution_count": 1,
   "metadata": {},
   "outputs": [],
   "source": [
    "import os, sys\n",
    "import numpy as np\n",
    "import imageio\n",
    "import json\n",
    "import random\n",
    "import time\n",
    "import torch\n",
    "import torch.nn as nn\n",
    "import torch.nn.functional as F\n",
    "from tqdm import tqdm, trange"
   ]
  },
  {
   "cell_type": "code",
   "execution_count": 2,
   "metadata": {},
   "outputs": [],
   "source": [
    "import matplotlib.pyplot as plt\n",
    "\n",
    "from run_nerf_helpers import *\n",
    "\n",
    "from load_llff import load_llff_data\n",
    "from load_deepvoxels import load_dv_data\n",
    "from load_blender import load_blender_data\n",
    "from load_LINEMOD import load_LINEMOD_data"
   ]
  },
  {
   "cell_type": "code",
   "execution_count": 3,
   "metadata": {},
   "outputs": [
    {
     "name": "stdout",
     "output_type": "stream",
     "text": [
      "Pixiedust database opened successfully\n"
     ]
    },
    {
     "data": {
      "text/html": [
       "\n",
       "        <div style=\"margin:10px\">\n",
       "            <a href=\"https://github.com/ibm-watson-data-lab/pixiedust\" target=\"_new\">\n",
       "                <img src=\"https://github.com/ibm-watson-data-lab/pixiedust/raw/master/docs/_static/pd_icon32.png\" style=\"float:left;margin-right:10px\"/>\n",
       "            </a>\n",
       "            <span>Pixiedust version 1.1.19</span>\n",
       "        </div>\n",
       "        "
      ],
      "text/plain": [
       "<IPython.core.display.HTML object>"
      ]
     },
     "metadata": {},
     "output_type": "display_data"
    }
   ],
   "source": [
    "import pixiedust"
   ]
  },
  {
   "cell_type": "code",
   "execution_count": 4,
   "metadata": {},
   "outputs": [],
   "source": [
    "device = torch.device(\"cuda\" if torch.cuda.is_available() else \"cpu\")\n",
    "np.random.seed(0)\n",
    "DEBUG = True\n"
   ]
  },
  {
   "cell_type": "code",
   "execution_count": 5,
   "metadata": {},
   "outputs": [],
   "source": [
    "def batchify(fn, chunk):\n",
    "    \"\"\"Constructs a version of 'fn' that applies to smaller batches.\n",
    "    \"\"\"\n",
    "    if chunk is None:\n",
    "        return fn\n",
    "    def ret(inputs):\n",
    "        return torch.cat([fn(inputs[i:i+chunk]) for i in range(0, inputs.shape[0], chunk)], 0)\n",
    "    return ret"
   ]
  },
  {
   "cell_type": "code",
   "execution_count": 6,
   "metadata": {},
   "outputs": [],
   "source": [
    "def run_network(inputs, viewdirs, fn, embed_fn, embeddirs_fn, netchunk=1024*64):\n",
    "    \"\"\"Prepares inputs and applies network 'fn'.\n",
    "    \"\"\"\n",
    "    inputs_flat = torch.reshape(inputs, [-1, inputs.shape[-1]])\n",
    "    embedded = embed_fn(inputs_flat)\n",
    "\n",
    "    if viewdirs is not None:\n",
    "        input_dirs = viewdirs[:,None].expand(inputs.shape)\n",
    "        input_dirs_flat = torch.reshape(input_dirs, [-1, input_dirs.shape[-1]])\n",
    "        embedded_dirs = embeddirs_fn(input_dirs_flat)\n",
    "        embedded = torch.cat([embedded, embedded_dirs], -1)\n",
    "\n",
    "    outputs_flat = batchify(fn, netchunk)(embedded)\n",
    "    outputs = torch.reshape(outputs_flat, list(inputs.shape[:-1]) + [outputs_flat.shape[-1]])\n",
    "    return outputs"
   ]
  },
  {
   "cell_type": "code",
   "execution_count": 7,
   "metadata": {},
   "outputs": [],
   "source": [
    "def batchify_rays(rays_flat, chunk=1024*32, **kwargs):\n",
    "    \"\"\"Render rays in smaller minibatches to avoid OOM.\n",
    "    \"\"\"\n",
    "    all_ret = {}\n",
    "    for i in range(0, rays_flat.shape[0], chunk):\n",
    "        ret = render_rays(rays_flat[i:i+chunk], **kwargs)\n",
    "        for k in ret:\n",
    "            if k not in all_ret:\n",
    "                all_ret[k] = []\n",
    "            all_ret[k].append(ret[k])\n",
    "\n",
    "    all_ret = {k : torch.cat(all_ret[k], 0) for k in all_ret}\n",
    "    return all_ret"
   ]
  },
  {
   "cell_type": "code",
   "execution_count": 8,
   "metadata": {},
   "outputs": [],
   "source": [
    "def render(H, W, K, chunk=1024*32, rays=None, c2w=None, ndc=True,\n",
    "                  near=0., far=1.,\n",
    "                  use_viewdirs=False, c2w_staticcam=None,\n",
    "                  **kwargs):\n",
    "    \"\"\"Render rays\n",
    "    Args:\n",
    "      H: int. Height of image in pixels.\n",
    "      W: int. Width of image in pixels.\n",
    "      focal: float. Focal length of pinhole camera.\n",
    "      chunk: int. Maximum number of rays to process simultaneously. Used to\n",
    "        control maximum memory usage. Does not affect final results.\n",
    "      rays: array of shape [2, batch_size, 3]. Ray origin and direction for\n",
    "        each example in batch.\n",
    "      c2w: array of shape [3, 4]. Camera-to-world transformation matrix.\n",
    "      ndc: bool. If True, represent ray origin, direction in NDC coordinates.\n",
    "      near: float or array of shape [batch_size]. Nearest distance for a ray.\n",
    "      far: float or array of shape [batch_size]. Farthest distance for a ray.\n",
    "      use_viewdirs: bool. If True, use viewing direction of a point in space in model.\n",
    "      c2w_staticcam: array of shape [3, 4]. If not None, use this transformation matrix for \n",
    "       camera while using other c2w argument for viewing directions.\n",
    "    Returns:\n",
    "      rgb_map: [batch_size, 3]. Predicted RGB values for rays.\n",
    "      disp_map: [batch_size]. Disparity map. Inverse of depth.\n",
    "      acc_map: [batch_size]. Accumulated opacity (alpha) along a ray.\n",
    "      extras: dict with everything returned by render_rays().\n",
    "    \"\"\"\n",
    "    if c2w is not None:\n",
    "        # special case to render full image\n",
    "        rays_o, rays_d = get_rays(H, W, K, c2w)\n",
    "    else:\n",
    "        # use provided ray batch\n",
    "        rays_o, rays_d = rays\n",
    "\n",
    "    if use_viewdirs:\n",
    "        # provide ray directions as input\n",
    "        viewdirs = rays_d\n",
    "        if c2w_staticcam is not None:\n",
    "            # special case to visualize effect of viewdirs\n",
    "            rays_o, rays_d = get_rays(H, W, K, c2w_staticcam)\n",
    "        viewdirs = viewdirs / torch.norm(viewdirs, dim=-1, keepdim=True)\n",
    "        viewdirs = torch.reshape(viewdirs, [-1,3]).float()\n",
    "\n",
    "    sh = rays_d.shape # [..., 3]\n",
    "    if ndc:\n",
    "        # for forward facing scenes\n",
    "        rays_o, rays_d = ndc_rays(H, W, K[0][0], 1., rays_o, rays_d)\n",
    "\n",
    "    # Create ray batch\n",
    "    rays_o = torch.reshape(rays_o, [-1,3]).float()\n",
    "    rays_d = torch.reshape(rays_d, [-1,3]).float()\n",
    "\n",
    "    near, far = near * torch.ones_like(rays_d[...,:1]), far * torch.ones_like(rays_d[...,:1])\n",
    "    rays = torch.cat([rays_o, rays_d, near, far], -1)\n",
    "    if use_viewdirs:\n",
    "        rays = torch.cat([rays, viewdirs], -1)\n",
    "\n",
    "    # Render and reshape\n",
    "    all_ret = batchify_rays(rays, chunk, **kwargs)\n",
    "    for k in all_ret:\n",
    "        k_sh = list(sh[:-1]) + list(all_ret[k].shape[1:])\n",
    "        all_ret[k] = torch.reshape(all_ret[k], k_sh)\n",
    "\n",
    "    k_extract = ['rgb_map', 'disp_map', 'acc_map']\n",
    "    ret_list = [all_ret[k] for k in k_extract]\n",
    "    ret_dict = {k : all_ret[k] for k in all_ret if k not in k_extract}\n",
    "    return ret_list + [ret_dict]"
   ]
  },
  {
   "cell_type": "code",
   "execution_count": 9,
   "metadata": {},
   "outputs": [],
   "source": [
    "def render_path(render_poses, hwf, K, chunk, render_kwargs, gt_imgs=None, savedir=None, render_factor=0):\n",
    "\n",
    "    H, W, focal = hwf\n",
    "\n",
    "    if render_factor!=0:\n",
    "        # Render downsampled for speed\n",
    "        H = H//render_factor\n",
    "        W = W//render_factor\n",
    "        focal = focal/render_factor\n",
    "\n",
    "    rgbs = []\n",
    "    disps = []\n",
    "\n",
    "    t = time.time()\n",
    "    for i, c2w in enumerate(tqdm(render_poses)):\n",
    "        print(i, time.time() - t)\n",
    "        t = time.time()\n",
    "        rgb, disp, acc, _ = render(H, W, K, chunk=chunk, c2w=c2w[:3,:4], **render_kwargs)\n",
    "        rgbs.append(rgb.cpu().numpy())\n",
    "        disps.append(disp.cpu().numpy())\n",
    "        if i==0:\n",
    "            print(rgb.shape, disp.shape)\n",
    "\n",
    "        \"\"\"\n",
    "        if gt_imgs is not None and render_factor==0:\n",
    "            p = -10. * np.log10(np.mean(np.square(rgb.cpu().numpy() - gt_imgs[i])))\n",
    "            print(p)\n",
    "        \"\"\"\n",
    "\n",
    "        if savedir is not None:\n",
    "            rgb8 = to8b(rgbs[-1])\n",
    "            filename = os.path.join(savedir, '{:03d}.png'.format(i))\n",
    "            imageio.imwrite(filename, rgb8)\n",
    "\n",
    "\n",
    "    rgbs = np.stack(rgbs, 0)\n",
    "    disps = np.stack(disps, 0)\n",
    "\n",
    "    return rgbs, disps"
   ]
  },
  {
   "cell_type": "code",
   "execution_count": 10,
   "metadata": {},
   "outputs": [],
   "source": [
    "def create_nerf(args):\n",
    "    \"\"\"Instantiate NeRF's MLP model.\n",
    "    \"\"\"\n",
    "    embed_fn, input_ch = get_embedder(args.multires, args.i_embed)\n",
    "\n",
    "    input_ch_views = 0\n",
    "    embeddirs_fn = None\n",
    "    if args.use_viewdirs:\n",
    "        embeddirs_fn, input_ch_views = get_embedder(args.multires_views, args.i_embed)\n",
    "    output_ch = 5 if args.N_importance > 0 else 4\n",
    "    skips = [4]\n",
    "    model = NeRF(D=args.netdepth, W=args.netwidth,\n",
    "                 input_ch=input_ch, output_ch=output_ch, skips=skips,\n",
    "                 input_ch_views=input_ch_views, use_viewdirs=args.use_viewdirs).to(device)\n",
    "    grad_vars = list(model.parameters())\n",
    "\n",
    "    model_fine = None\n",
    "    if args.N_importance > 0:\n",
    "        model_fine = NeRF(D=args.netdepth_fine, W=args.netwidth_fine,\n",
    "                          input_ch=input_ch, output_ch=output_ch, skips=skips,\n",
    "                          input_ch_views=input_ch_views, use_viewdirs=args.use_viewdirs).to(device)\n",
    "        grad_vars += list(model_fine.parameters())\n",
    "\n",
    "    network_query_fn = lambda inputs, viewdirs, network_fn : run_network(inputs, viewdirs, network_fn,\n",
    "                                                                embed_fn=embed_fn,\n",
    "                                                                embeddirs_fn=embeddirs_fn,\n",
    "                                                                netchunk=args.netchunk)\n",
    "\n",
    "    # Create optimizer\n",
    "    optimizer = torch.optim.Adam(params=grad_vars, lr=args.lrate, betas=(0.9, 0.999))\n",
    "\n",
    "    start = 0\n",
    "    basedir = args.basedir\n",
    "    expname = args.expname\n",
    "\n",
    "    ##########################\n",
    "\n",
    "    # Load checkpoints\n",
    "    if args.ft_path is not None and args.ft_path!='None':\n",
    "        ckpts = [args.ft_path]\n",
    "    else:\n",
    "        ckpts = [os.path.join(basedir, expname, f) for f in sorted(os.listdir(os.path.join(basedir, expname))) if 'tar' in f]\n",
    "\n",
    "    print('Found ckpts', ckpts)\n",
    "    if len(ckpts) > 0 and not args.no_reload:\n",
    "        ckpt_path = ckpts[-1]\n",
    "        print('Reloading from', ckpt_path)\n",
    "        ckpt = torch.load(ckpt_path)\n",
    "\n",
    "        start = ckpt['global_step']\n",
    "        optimizer.load_state_dict(ckpt['optimizer_state_dict'])\n",
    "\n",
    "        # Load model\n",
    "        model.load_state_dict(ckpt['network_fn_state_dict'])\n",
    "        if model_fine is not None:\n",
    "            model_fine.load_state_dict(ckpt['network_fine_state_dict'])\n",
    "\n",
    "    ##########################\n",
    "\n",
    "    render_kwargs_train = {\n",
    "        'network_query_fn' : network_query_fn,\n",
    "        'perturb' : args.perturb,\n",
    "        'N_importance' : args.N_importance,\n",
    "        'network_fine' : model_fine,\n",
    "        'N_samples' : args.N_samples,\n",
    "        'network_fn' : model,\n",
    "        'use_viewdirs' : args.use_viewdirs,\n",
    "        'white_bkgd' : args.white_bkgd,\n",
    "        'raw_noise_std' : args.raw_noise_std,\n",
    "    }\n",
    "\n",
    "    # NDC only good for LLFF-style forward facing data\n",
    "    if args.dataset_type != 'llff' or args.no_ndc:\n",
    "        print('Not ndc!')\n",
    "        render_kwargs_train['ndc'] = False\n",
    "        render_kwargs_train['lindisp'] = args.lindisp\n",
    "\n",
    "    render_kwargs_test = {k : render_kwargs_train[k] for k in render_kwargs_train}\n",
    "    render_kwargs_test['perturb'] = False\n",
    "    render_kwargs_test['raw_noise_std'] = 0.\n",
    "\n",
    "    return render_kwargs_train, render_kwargs_test, start, grad_vars, optimizer"
   ]
  },
  {
   "cell_type": "code",
   "execution_count": 11,
   "metadata": {},
   "outputs": [],
   "source": [
    "def raw2outputs(raw, z_vals, rays_d, raw_noise_std=0, white_bkgd=False, pytest=False):\n",
    "    \"\"\"Transforms model's predictions to semantically meaningful values.\n",
    "    Args:\n",
    "        raw: [num_rays, num_samples along ray, 4]. Prediction from model.\n",
    "        z_vals: [num_rays, num_samples along ray]. Integration time.\n",
    "        rays_d: [num_rays, 3]. Direction of each ray.\n",
    "    Returns:\n",
    "        rgb_map: [num_rays, 3]. Estimated RGB color of a ray.\n",
    "        disp_map: [num_rays]. Disparity map. Inverse of depth map.\n",
    "        acc_map: [num_rays]. Sum of weights along each ray.\n",
    "        weights: [num_rays, num_samples]. Weights assigned to each sampled color.\n",
    "        depth_map: [num_rays]. Estimated distance to object.\n",
    "    \"\"\"\n",
    "    raw2alpha = lambda raw, dists, act_fn=F.relu: 1.-torch.exp(-act_fn(raw)*dists)\n",
    "\n",
    "    dists = z_vals[...,1:] - z_vals[...,:-1]\n",
    "    dists = torch.cat([dists, torch.Tensor([1e10]).expand(dists[...,:1].shape)], -1)  # [N_rays, N_samples]\n",
    "\n",
    "    dists = dists * torch.norm(rays_d[...,None,:], dim=-1)\n",
    "\n",
    "    rgb = torch.sigmoid(raw[...,:3])  # [N_rays, N_samples, 3]\n",
    "    noise = 0.\n",
    "    if raw_noise_std > 0.:\n",
    "        noise = torch.randn(raw[...,3].shape) * raw_noise_std\n",
    "\n",
    "        # Overwrite randomly sampled data if pytest\n",
    "        if pytest:\n",
    "            np.random.seed(0)\n",
    "            noise = np.random.rand(*list(raw[...,3].shape)) * raw_noise_std\n",
    "            noise = torch.Tensor(noise)\n",
    "\n",
    "    alpha = raw2alpha(raw[...,3] + noise, dists)  # [N_rays, N_samples]\n",
    "    # weights = alpha * tf.math.cumprod(1.-alpha + 1e-10, -1, exclusive=True)\n",
    "    weights = alpha * torch.cumprod(torch.cat([torch.ones((alpha.shape[0], 1)), 1.-alpha + 1e-10], -1), -1)[:, :-1]\n",
    "    rgb_map = torch.sum(weights[...,None] * rgb, -2)  # [N_rays, 3]\n",
    "\n",
    "    depth_map = torch.sum(weights * z_vals, -1)\n",
    "    disp_map = 1./torch.max(1e-10 * torch.ones_like(depth_map), depth_map / torch.sum(weights, -1))\n",
    "    acc_map = torch.sum(weights, -1)\n",
    "\n",
    "    if white_bkgd:\n",
    "        rgb_map = rgb_map + (1.-acc_map[...,None])\n",
    "\n",
    "    return rgb_map, disp_map, acc_map, weights, depth_map"
   ]
  },
  {
   "cell_type": "code",
   "execution_count": 12,
   "metadata": {},
   "outputs": [],
   "source": [
    "def render_rays(ray_batch,\n",
    "                network_fn,\n",
    "                network_query_fn,\n",
    "                N_samples,\n",
    "                retraw=False,\n",
    "                lindisp=False,\n",
    "                perturb=0.,\n",
    "                N_importance=0,\n",
    "                network_fine=None,\n",
    "                white_bkgd=False,\n",
    "                raw_noise_std=0.,\n",
    "                verbose=False,\n",
    "                pytest=False):\n",
    "    \"\"\"Volumetric rendering.\n",
    "    Args:\n",
    "      ray_batch: array of shape [batch_size, ...]. All information necessary\n",
    "        for sampling along a ray, including: ray origin, ray direction, min\n",
    "        dist, max dist, and unit-magnitude viewing direction.\n",
    "      network_fn: function. Model for predicting RGB and density at each point\n",
    "        in space.\n",
    "      network_query_fn: function used for passing queries to network_fn.\n",
    "      N_samples: int. Number of different times to sample along each ray.\n",
    "      retraw: bool. If True, include model's raw, unprocessed predictions.\n",
    "      lindisp: bool. If True, sample linearly in inverse depth rather than in depth.\n",
    "      perturb: float, 0 or 1. If non-zero, each ray is sampled at stratified\n",
    "        random points in time.\n",
    "      N_importance: int. Number of additional times to sample along each ray.\n",
    "        These samples are only passed to network_fine.\n",
    "      network_fine: \"fine\" network with same spec as network_fn.\n",
    "      white_bkgd: bool. If True, assume a white background.\n",
    "      raw_noise_std: ...\n",
    "      verbose: bool. If True, print more debugging info.\n",
    "    Returns:\n",
    "      rgb_map: [num_rays, 3]. Estimated RGB color of a ray. Comes from fine model.\n",
    "      disp_map: [num_rays]. Disparity map. 1 / depth.\n",
    "      acc_map: [num_rays]. Accumulated opacity along each ray. Comes from fine model.\n",
    "      raw: [num_rays, num_samples, 4]. Raw predictions from model.\n",
    "      rgb0: See rgb_map. Output for coarse model.\n",
    "      disp0: See disp_map. Output for coarse model.\n",
    "      acc0: See acc_map. Output for coarse model.\n",
    "      z_std: [num_rays]. Standard deviation of distances along ray for each\n",
    "        sample.\n",
    "    \"\"\"\n",
    "    N_rays = ray_batch.shape[0]\n",
    "    rays_o, rays_d = ray_batch[:,0:3], ray_batch[:,3:6] # [N_rays, 3] each\n",
    "    viewdirs = ray_batch[:,-3:] if ray_batch.shape[-1] > 8 else None\n",
    "    bounds = torch.reshape(ray_batch[...,6:8], [-1,1,2])\n",
    "    near, far = bounds[...,0], bounds[...,1] # [-1,1]\n",
    "\n",
    "    t_vals = torch.linspace(0., 1., steps=N_samples)\n",
    "    if not lindisp:\n",
    "        z_vals = near * (1.-t_vals) + far * (t_vals)\n",
    "    else:\n",
    "        z_vals = 1./(1./near * (1.-t_vals) + 1./far * (t_vals))\n",
    "\n",
    "    z_vals = z_vals.expand([N_rays, N_samples])\n",
    "\n",
    "    if perturb > 0.:\n",
    "        # get intervals between samples\n",
    "        mids = .5 * (z_vals[...,1:] + z_vals[...,:-1])\n",
    "        upper = torch.cat([mids, z_vals[...,-1:]], -1)\n",
    "        lower = torch.cat([z_vals[...,:1], mids], -1)\n",
    "        # stratified samples in those intervals\n",
    "        t_rand = torch.rand(z_vals.shape)\n",
    "\n",
    "        # Pytest, overwrite u with numpy's fixed random numbers\n",
    "        if pytest:\n",
    "            np.random.seed(0)\n",
    "            t_rand = np.random.rand(*list(z_vals.shape))\n",
    "            t_rand = torch.Tensor(t_rand)\n",
    "\n",
    "        z_vals = lower + (upper - lower) * t_rand\n",
    "\n",
    "    pts = rays_o[...,None,:] + rays_d[...,None,:] * z_vals[...,:,None] # [N_rays, N_samples, 3]\n",
    "\n",
    "\n",
    "#     raw = run_network(pts)\n",
    "    raw = network_query_fn(pts, viewdirs, network_fn)\n",
    "    rgb_map, disp_map, acc_map, weights, depth_map = raw2outputs(raw, z_vals, rays_d, raw_noise_std, white_bkgd, pytest=pytest)\n",
    "\n",
    "    if N_importance > 0:\n",
    "\n",
    "        rgb_map_0, disp_map_0, acc_map_0 = rgb_map, disp_map, acc_map\n",
    "\n",
    "        z_vals_mid = .5 * (z_vals[...,1:] + z_vals[...,:-1])\n",
    "        z_samples = sample_pdf(z_vals_mid, weights[...,1:-1], N_importance, det=(perturb==0.), pytest=pytest)\n",
    "        z_samples = z_samples.detach()\n",
    "\n",
    "        z_vals, _ = torch.sort(torch.cat([z_vals, z_samples], -1), -1)\n",
    "        pts = rays_o[...,None,:] + rays_d[...,None,:] * z_vals[...,:,None] # [N_rays, N_samples + N_importance, 3]\n",
    "\n",
    "        run_fn = network_fn if network_fine is None else network_fine\n",
    "#         raw = run_network(pts, fn=run_fn)\n",
    "        raw = network_query_fn(pts, viewdirs, run_fn)\n",
    "\n",
    "        rgb_map, disp_map, acc_map, weights, depth_map = raw2outputs(raw, z_vals, rays_d, raw_noise_std, white_bkgd, pytest=pytest)\n",
    "\n",
    "    ret = {'rgb_map' : rgb_map, 'disp_map' : disp_map, 'acc_map' : acc_map}\n",
    "    if retraw:\n",
    "        ret['raw'] = raw\n",
    "    if N_importance > 0:\n",
    "        ret['rgb0'] = rgb_map_0\n",
    "        ret['disp0'] = disp_map_0\n",
    "        ret['acc0'] = acc_map_0\n",
    "        ret['z_std'] = torch.std(z_samples, dim=-1, unbiased=False)  # [N_rays]\n",
    "\n",
    "    for k in ret:\n",
    "        if (torch.isnan(ret[k]).any() or torch.isinf(ret[k]).any()) and DEBUG:\n",
    "            print(f\"! [Numerical Error] {k} contains nan or inf.\")\n",
    "\n",
    "    return ret"
   ]
  },
  {
   "cell_type": "code",
   "execution_count": 13,
   "metadata": {},
   "outputs": [],
   "source": [
    "def config_parser():\n",
    "\n",
    "    import configargparse\n",
    "    parser = configargparse.ArgumentParser()\n",
    "    parser.add_argument('--config', is_config_file=True, \n",
    "                        help='config file path')\n",
    "    parser.add_argument(\"--expname\", type=str, \n",
    "                        help='experiment name')\n",
    "    parser.add_argument(\"--basedir\", type=str, default='./logs/', \n",
    "                        help='where to store ckpts and logs')\n",
    "    parser.add_argument(\"--datadir\", type=str, default='./data/llff/fern', \n",
    "                        help='input data directory')\n",
    "\n",
    "    # training options\n",
    "    parser.add_argument(\"--netdepth\", type=int, default=8, \n",
    "                        help='layers in network')\n",
    "    parser.add_argument(\"--netwidth\", type=int, default=256, \n",
    "                        help='channels per layer')\n",
    "    parser.add_argument(\"--netdepth_fine\", type=int, default=8, \n",
    "                        help='layers in fine network')\n",
    "    parser.add_argument(\"--netwidth_fine\", type=int, default=256, \n",
    "                        help='channels per layer in fine network')\n",
    "    parser.add_argument(\"--N_rand\", type=int, default=32*32*4, \n",
    "                        help='batch size (number of random rays per gradient step)')\n",
    "    parser.add_argument(\"--lrate\", type=float, default=5e-4, \n",
    "                        help='learning rate')\n",
    "    parser.add_argument(\"--lrate_decay\", type=int, default=250, \n",
    "                        help='exponential learning rate decay (in 1000 steps)')\n",
    "    parser.add_argument(\"--chunk\", type=int, default=1024*32, \n",
    "                        help='number of rays processed in parallel, decrease if running out of memory')\n",
    "    parser.add_argument(\"--netchunk\", type=int, default=1024*64, \n",
    "                        help='number of pts sent through network in parallel, decrease if running out of memory')\n",
    "    parser.add_argument(\"--no_batching\", action='store_true', \n",
    "                        help='only take random rays from 1 image at a time')\n",
    "    parser.add_argument(\"--no_reload\", action='store_true', \n",
    "                        help='do not reload weights from saved ckpt')\n",
    "    parser.add_argument(\"--ft_path\", type=str, default=None, \n",
    "                        help='specific weights npy file to reload for coarse network')\n",
    "\n",
    "    # rendering options\n",
    "    parser.add_argument(\"--N_samples\", type=int, default=64, \n",
    "                        help='number of coarse samples per ray')\n",
    "    parser.add_argument(\"--N_importance\", type=int, default=0,\n",
    "                        help='number of additional fine samples per ray')\n",
    "    parser.add_argument(\"--perturb\", type=float, default=1.,\n",
    "                        help='set to 0. for no jitter, 1. for jitter')\n",
    "    parser.add_argument(\"--use_viewdirs\", action='store_true', \n",
    "                        help='use full 5D input instead of 3D')\n",
    "    parser.add_argument(\"--i_embed\", type=int, default=0, \n",
    "                        help='set 0 for default positional encoding, -1 for none')\n",
    "    parser.add_argument(\"--multires\", type=int, default=10, \n",
    "                        help='log2 of max freq for positional encoding (3D location)')\n",
    "    parser.add_argument(\"--multires_views\", type=int, default=4, \n",
    "                        help='log2 of max freq for positional encoding (2D direction)')\n",
    "    parser.add_argument(\"--raw_noise_std\", type=float, default=0., \n",
    "                        help='std dev of noise added to regularize sigma_a output, 1e0 recommended')\n",
    "\n",
    "    parser.add_argument(\"--render_only\", action='store_true', \n",
    "                        help='do not optimize, reload weights and render out render_poses path')\n",
    "    parser.add_argument(\"--render_test\", action='store_true', \n",
    "                        help='render the test set instead of render_poses path')\n",
    "    parser.add_argument(\"--render_factor\", type=int, default=0, \n",
    "                        help='downsampling factor to speed up rendering, set 4 or 8 for fast preview')\n",
    "\n",
    "    # training options\n",
    "    parser.add_argument(\"--precrop_iters\", type=int, default=0,\n",
    "                        help='number of steps to train on central crops')\n",
    "    parser.add_argument(\"--precrop_frac\", type=float,\n",
    "                        default=.5, help='fraction of img taken for central crops') \n",
    "\n",
    "    # dataset options\n",
    "    parser.add_argument(\"--dataset_type\", type=str, default='llff', \n",
    "                        help='options: llff / blender / deepvoxels')\n",
    "    parser.add_argument(\"--testskip\", type=int, default=8, \n",
    "                        help='will load 1/N images from test/val sets, useful for large datasets like deepvoxels')\n",
    "\n",
    "    ## deepvoxels flags\n",
    "    parser.add_argument(\"--shape\", type=str, default='greek', \n",
    "                        help='options : armchair / cube / greek / vase')\n",
    "\n",
    "    ## blender flags\n",
    "    parser.add_argument(\"--white_bkgd\", action='store_true', \n",
    "                        help='set to render synthetic data on a white bkgd (always use for dvoxels)')\n",
    "    parser.add_argument(\"--half_res\", action='store_true', \n",
    "                        help='load blender synthetic data at 400x400 instead of 800x800')\n",
    "\n",
    "    ## llff flags\n",
    "    parser.add_argument(\"--factor\", type=int, default=8, \n",
    "                        help='downsample factor for LLFF images')\n",
    "    parser.add_argument(\"--no_ndc\", action='store_true', \n",
    "                        help='do not use normalized device coordinates (set for non-forward facing scenes)')\n",
    "    parser.add_argument(\"--lindisp\", action='store_true', \n",
    "                        help='sampling linearly in disparity rather than depth')\n",
    "    parser.add_argument(\"--spherify\", action='store_true', \n",
    "                        help='set for spherical 360 scenes')\n",
    "    parser.add_argument(\"--llffhold\", type=int, default=8, \n",
    "                        help='will take every 1/N images as LLFF test set, paper uses 8')\n",
    "\n",
    "    # logging/saving options\n",
    "    parser.add_argument(\"--i_print\",   type=int, default=100, \n",
    "                        help='frequency of console printout and metric loggin')\n",
    "    parser.add_argument(\"--i_img\",     type=int, default=500, \n",
    "                        help='frequency of tensorboard image logging')\n",
    "    parser.add_argument(\"--i_weights\", type=int, default=10000, \n",
    "                        help='frequency of weight ckpt saving')\n",
    "    parser.add_argument(\"--i_testset\", type=int, default=50000, \n",
    "                        help='frequency of testset saving')\n",
    "    parser.add_argument(\"--i_video\",   type=int, default=50000, \n",
    "                        help='frequency of render_poses video saving')\n",
    "\n",
    "    return parser"
   ]
  },
  {
   "cell_type": "code",
   "execution_count": 23,
   "metadata": {},
   "outputs": [],
   "source": [
    "class Args():\n",
    "    '''\n",
    "    For jupyter notebook\n",
    "    '''\n",
    "\n",
    "    def __init__(self):\n",
    "        self.config = os.environ.get('SRC_DIR')+'/configs/lego.txt'\n",
    "        self.basedir = os.environ.get('TRAINING_DIR')\n",
    "        self.expname = 'Test'\n",
    "        self.datadir = './data/llff/fern'\n",
    "        \n",
    "        #training options\n",
    "        self.netdepth=8  # layers in network\n",
    "        self.netwidth=256 # channels per layer\n",
    "        self.netdepth_fine = 8\n",
    "        self.netwidth_fine = 256\n",
    "        self.N_rand = 32*32*4 #batch size (number of radndom rays per gradient step)\n",
    "        self.lrate = 5e-4 #learning rate\n",
    "        self.lrate_decay = 250 # exponential learning rate decay (in 1000 steps)\n",
    "        self.chunk = 1024*32 # number of rays processed in parallel, decrease if running out of memory\n",
    "        self.netchunk = 1024*64 # number of pts sent through network in parallel, decrease if running out of memory\n",
    "        self.no_batching ='store_true' #only take random rays from 1 image at a time\n",
    "        self.no_reload='store_true' #do not reload weights from saved ckpt\n",
    "        self.ft_path='None' # specific weights npy file to reload for coarse network\n",
    "        \n",
    "        # rendering options\n",
    "        self.N_samples=64 #number of coarse samples per ray\n",
    "        self.N_importance=0 # number of additional fine samples per ray\n",
    "        self.perturb=1. #set to 0. for no jitter, 1. for jitter\n",
    "        self.use_viewdirs='store_true' #use full 5D input instead of 3D\n",
    "        self.i_embed=0 #set 0 for default positional encoding, -1 for none\n",
    "        self.multires=10 #log2 of max freq for positional encoding (3D location)\n",
    "        self.multires_views=4 #log2 of max freq for positional encoding (2D direction)\n",
    "        self.raw_noise_std=0. #std dev of noise added to regularize sigma_a output, 1e0 recommended'\n",
    "\n",
    "        self.render_only='store_true' #do not optimize, reload weights and render out render_poses path\n",
    "        self.render_test=None #'render the test set instead of render_poses path'\n",
    "#        self.render_test='store_true' #'render the test set instead of render_poses path'\n",
    "        self.render_factor=0 #downsampling factor to speed up rendering, set 4 or 8 for fast preview\n",
    "        \n",
    "        # training options\n",
    "        self.precrop_iters=0 #'number of steps to train on central crops')\n",
    "        self.precrop_frac=.5 #'fraction of img taken for central crops') \n",
    "\n",
    "        # dataset options\n",
    "        self.dataset_type='llff' #'options: llff / blender / deepvoxels')\n",
    "        self.testskip=8 #will load 1/N images from test/val sets, useful for large datasets like deepvoxels')\n",
    "\n",
    "        ## deepvoxels flags\n",
    "        self.shape='greek' # options : armchair / cube / greek / vase')\n",
    "\n",
    "        ## blender flags\n",
    "        self.white_bkgd='store_true' # set to render synthetic data on a white bkgd (always use for dvoxels)')\n",
    "        self.half_res='store_true' # load blender synthetic data at 400x400 instead of 800x800')\n",
    "\n",
    "        ## llff flags\n",
    "        self.factor=8 # downsample factor for LLFF images')\n",
    "        self.no_ndc='store_true' # do not use normalized device coordinates (set for non-forward facing scenes)')\n",
    "        self.lindisp='store_true' # sampling linearly in disparity rather than depth')\n",
    "        self.spherify='store_true' # set for spherical 360 scenes')\n",
    "        self.llffhold=8 # will take every 1/N images as LLFF test set, paper uses 8')\n",
    "\n",
    "        # logging/saving options\n",
    "        self.i_print=100 # frequency of console printout and metric loggin')\n",
    "        self.i_img=500 # frequency of tensorboard image logging')\n",
    "        self.i_weights=10000 # frequency of weight ckpt saving')\n",
    "        self.i_testset=50000 # frequency of testset saving')\n",
    "        self.i_video=50000 # 'frequency of render_poses video saving')\n",
    "                "
   ]
  },
  {
   "cell_type": "code",
   "execution_count": 15,
   "metadata": {},
   "outputs": [],
   "source": [
    "def parse_liff(datadir,factor,spherify,llffhold,recenter=True,bd_factor=.75):\n",
    "    images, poses, bds, render_poses, i_test = load_llff_data(datadir, factor,recenter, bd_factor,spherify)\n",
    "    hwf = poses[0,:3,-1]\n",
    "    poses = poses[:,:3,:4]\n",
    "    print('Loaded llff', images.shape, render_poses.shape, hwf, datadir)\n",
    "    if not isinstance(i_test, list):\n",
    "        i_test = [i_test]\n",
    "\n",
    "    if args.llffhold > 0:\n",
    "        print('Auto LLFF holdout,', llffhold)\n",
    "        i_test = np.arange(images.shape[0])[::llffhold]\n",
    "\n",
    "    i_val = i_test\n",
    "    i_train = np.array([i for i in np.arange(int(images.shape[0])) if(i not in i_test and i not in i_val)])\n",
    "    print('DEFINING BOUNDS')\n",
    "    if args.no_ndc:\n",
    "        near = np.ndarray.min(bds) * .9\n",
    "        far = np.ndarray.max(bds) * 1.\n",
    "            \n",
    "    else:\n",
    "        near = 0.\n",
    "        far = 1.\n",
    "    print('NEAR FAR', near, far)\n",
    "\n",
    "    return images, poses, bds, render_poses, i_test"
   ]
  },
  {
   "cell_type": "code",
   "execution_count": 16,
   "metadata": {
    "pixiedust": {
     "displayParams": {}
    }
   },
   "outputs": [],
   "source": [
    "#%%pixie_debugger\n",
    "def parse_blender(datadir, half_res, testskip, white_bkgd):\n",
    "    images, poses, render_poses, hwf, i_split = load_blender_data(datadir, half_res, testskip)\n",
    "    print('Loaded blender', images.shape, render_poses.shape, hwf, datadir)\n",
    "    i_train, i_val, i_test = i_split\n",
    "\n",
    "\n",
    "    if white_bkgd:\n",
    "        images = images[...,:3]*images[...,-1:] + (1.-images[...,-1:])\n",
    "    else:\n",
    "        images = images[...,:3]\n",
    "        \n",
    "    return images, poses, render_poses, hwf, i_split\n",
    "\n"
   ]
  },
  {
   "cell_type": "code",
   "execution_count": 17,
   "metadata": {},
   "outputs": [],
   "source": [
    "def parse_linemod(datadir, half_res, testskip, white_bkgd):\n",
    "    images, poses, render_poses, hwf, K, i_split, near, far = load_LINEMOD_data(datadir, half_res, testskip)\n",
    "    print(f'Loaded LINEMOD, images shape: {images.shape}, hwf: {hwf}, K: {K}')\n",
    "    print(f'[CHECK HERE] near: {near}, far: {far}.')\n",
    "    i_train, i_val, i_test = i_split\n",
    "\n",
    "    if white_bkgd:\n",
    "        images = images[...,:3]*images[...,-1:] + (1.-images[...,-1:])\n",
    "    else:\n",
    "        images = images[...,:3]\n",
    "\n",
    "    return images, poses, render_poses, hwf, K, i_split, near, far"
   ]
  },
  {
   "cell_type": "code",
   "execution_count": 18,
   "metadata": {},
   "outputs": [],
   "source": [
    "def parse_deepvoxels(scene,basedir,testskip):\n",
    "    images, poses, render_poses, hwf, i_split = load_dv_data(scene,basedir,testskip)\n",
    "\n",
    "    print('Loaded deepvoxels', images.shape, render_poses.shape, hwf, basedir)\n",
    "    i_train, i_val, i_test = i_split\n",
    "\n",
    "    hemi_R = np.mean(np.linalg.norm(poses[:,:3,-1], axis=-1))\n",
    "    near = hemi_R-1.\n",
    "    far = hemi_R+1.\n",
    "\n",
    "    return images, poses, render_poses, hwf, i_split"
   ]
  },
  {
   "cell_type": "code",
   "execution_count": 19,
   "metadata": {
    "pixiedust": {
     "displayParams": {}
    }
   },
   "outputs": [],
   "source": [
    "def train():\n",
    "\n",
    "#    parser = config_parser()\n",
    "    args = parser.parse_args()\n",
    "\n",
    "    # Load data\n",
    "    K = None\n",
    "    if args.dataset_type == 'llff':\n",
    "        parse_liff(args.datadir,args.factor,args.recenter,args.bd_factor,args.spherify,args.llffhold)\n",
    "    elif args.dataset_type == 'blender':\n",
    "        parse_blender(args.datadir, args.half_res, args.testskipargs.white_bkgd)\n",
    "        near = 2.\n",
    "        far = 6.\n",
    "    elif args.dataset_type == 'LINEMOD':\n",
    "        parse_linemod(args.datadir, args.half_res, args.testskip,args.white_bkgd)\n",
    "    elif args.dataset_type == 'deepvoxels':\n",
    "        parse_deepvoxels(args.shape,args.datadir,args.testskip)\n",
    "    else:\n",
    "        print('Unknown dataset type', args.dataset_type, 'exiting')\n",
    "        return\n",
    "\n",
    "    # Cast intrinsics to right types\n",
    "    H, W, focal = hwf\n",
    "    H, W = int(H), int(W)\n",
    "    hwf = [H, W, focal]\n",
    "\n",
    "    if K is None:\n",
    "        K = np.array([\n",
    "            [focal, 0, 0.5*W],\n",
    "            [0, focal, 0.5*H],\n",
    "            [0, 0, 1]\n",
    "        ])\n",
    "\n",
    "    if args.render_test:\n",
    "        render_poses = np.array(poses[i_test])\n",
    "\n",
    "    # Create log dir and copy the config file\n",
    "    basedir = args.basedir\n",
    "    expname = args.expname\n",
    "    os.makedirs(os.path.join(basedir, expname), exist_ok=True)\n",
    "    f = os.path.join(basedir, expname, 'args.txt')\n",
    "    with open(f, 'w') as file:\n",
    "        for arg in sorted(vars(args)):\n",
    "            attr = getattr(args, arg)\n",
    "            file.write('{} = {}\\n'.format(arg, attr))\n",
    "    if args.config is not None:\n",
    "        f = os.path.join(basedir, expname, 'config.txt')\n",
    "        with open(f, 'w') as file:\n",
    "            file.write(open(args.config, 'r').read())\n",
    "\n",
    "    # Create nerf model\n",
    "    render_kwargs_train, render_kwargs_test, start, grad_vars, optimizer = create_nerf(args)\n",
    "    global_step = start\n",
    "\n",
    "    bds_dict = {\n",
    "        'near' : near,\n",
    "        'far' : far,\n",
    "    }\n",
    "    render_kwargs_train.update(bds_dict)\n",
    "    render_kwargs_test.update(bds_dict)\n",
    "\n",
    "    # Move testing data to GPU\n",
    "    render_poses = torch.Tensor(render_poses).to(device)\n",
    "\n",
    "    # Short circuit if only rendering out from trained model\n",
    "    if args.render_only:\n",
    "        print('RENDER ONLY')\n",
    "        with torch.no_grad():\n",
    "            if args.render_test:\n",
    "                # render_test switches to test poses\n",
    "                images = images[i_test]\n",
    "            else:\n",
    "                # Default is smoother render_poses path\n",
    "                images = None\n",
    "\n",
    "            testsavedir = os.path.join(basedir, expname, 'renderonly_{}_{:06d}'.format('test' if args.render_test else 'path', start))\n",
    "            os.makedirs(testsavedir, exist_ok=True)\n",
    "            print('test poses shape', render_poses.shape)\n",
    "\n",
    "            rgbs, _ = render_path(render_poses, hwf, K, args.chunk, render_kwargs_test, gt_imgs=images, savedir=testsavedir, render_factor=args.render_factor)\n",
    "            print('Done rendering', testsavedir)\n",
    "            imageio.mimwrite(os.path.join(testsavedir, 'video.mp4'), to8b(rgbs), fps=30, quality=8)\n",
    "\n",
    "            return\n",
    "\n",
    "    # Prepare raybatch tensor if batching random rays\n",
    "    N_rand = args.N_rand\n",
    "    use_batching = not args.no_batching\n",
    "    if use_batching:\n",
    "        # For random ray batching\n",
    "        print('get rays')\n",
    "        rays = np.stack([get_rays_np(H, W, K, p) for p in poses[:,:3,:4]], 0) # [N, ro+rd, H, W, 3]\n",
    "        print('done, concats')\n",
    "        rays_rgb = np.concatenate([rays, images[:,None]], 1) # [N, ro+rd+rgb, H, W, 3]\n",
    "        rays_rgb = np.transpose(rays_rgb, [0,2,3,1,4]) # [N, H, W, ro+rd+rgb, 3]\n",
    "        rays_rgb = np.stack([rays_rgb[i] for i in i_train], 0) # train images only\n",
    "        rays_rgb = np.reshape(rays_rgb, [-1,3,3]) # [(N-1)*H*W, ro+rd+rgb, 3]\n",
    "        rays_rgb = rays_rgb.astype(np.float32)\n",
    "        print('shuffle rays')\n",
    "        np.random.shuffle(rays_rgb)\n",
    "\n",
    "        print('done')\n",
    "        i_batch = 0\n",
    "\n",
    "    # Move training data to GPU\n",
    "    if use_batching:\n",
    "        images = torch.Tensor(images).to(device)\n",
    "    poses = torch.Tensor(poses).to(device)\n",
    "    if use_batching:\n",
    "        rays_rgb = torch.Tensor(rays_rgb).to(device)\n",
    "\n",
    "\n",
    "    N_iters = 200000 + 1\n",
    "    print('Begin')\n",
    "    print('TRAIN views are', i_train)\n",
    "    print('TEST views are', i_test)\n",
    "    print('VAL views are', i_val)\n",
    "\n",
    "    # Summary writers\n",
    "    # writer = SummaryWriter(os.path.join(basedir, 'summaries', expname))\n",
    "    \n",
    "    start = start + 1\n",
    "    for i in trange(start, N_iters):\n",
    "        time0 = time.time()\n",
    "\n",
    "        # Sample random ray batch\n",
    "        if use_batching:\n",
    "            # Random over all images\n",
    "            batch = rays_rgb[i_batch:i_batch+N_rand] # [B, 2+1, 3*?]\n",
    "            batch = torch.transpose(batch, 0, 1)\n",
    "            batch_rays, target_s = batch[:2], batch[2]\n",
    "\n",
    "            i_batch += N_rand\n",
    "            if i_batch >= rays_rgb.shape[0]:\n",
    "                print(\"Shuffle data after an epoch!\")\n",
    "                rand_idx = torch.randperm(rays_rgb.shape[0])\n",
    "                rays_rgb = rays_rgb[rand_idx]\n",
    "                i_batch = 0\n",
    "\n",
    "        else:\n",
    "            # Random from one image\n",
    "            img_i = np.random.choice(i_train)\n",
    "            target = images[img_i]\n",
    "            target = torch.Tensor(target).to(device)\n",
    "            pose = poses[img_i, :3,:4]\n",
    "\n",
    "            if N_rand is not None:\n",
    "                rays_o, rays_d = get_rays(H, W, K, torch.Tensor(pose))  # (H, W, 3), (H, W, 3)\n",
    "\n",
    "                if i < args.precrop_iters:\n",
    "                    dH = int(H//2 * args.precrop_frac)\n",
    "                    dW = int(W//2 * args.precrop_frac)\n",
    "                    coords = torch.stack(\n",
    "                        torch.meshgrid(\n",
    "                            torch.linspace(H//2 - dH, H//2 + dH - 1, 2*dH), \n",
    "                            torch.linspace(W//2 - dW, W//2 + dW - 1, 2*dW)\n",
    "                        ), -1)\n",
    "                    if i == start:\n",
    "                        print(f\"[Config] Center cropping of size {2*dH} x {2*dW} is enabled until iter {args.precrop_iters}\")                \n",
    "                else:\n",
    "                    coords = torch.stack(torch.meshgrid(torch.linspace(0, H-1, H), torch.linspace(0, W-1, W)), -1)  # (H, W, 2)\n",
    "\n",
    "                coords = torch.reshape(coords, [-1,2])  # (H * W, 2)\n",
    "                select_inds = np.random.choice(coords.shape[0], size=[N_rand], replace=False)  # (N_rand,)\n",
    "                select_coords = coords[select_inds].long()  # (N_rand, 2)\n",
    "                rays_o = rays_o[select_coords[:, 0], select_coords[:, 1]]  # (N_rand, 3)\n",
    "                rays_d = rays_d[select_coords[:, 0], select_coords[:, 1]]  # (N_rand, 3)\n",
    "                batch_rays = torch.stack([rays_o, rays_d], 0)\n",
    "                target_s = target[select_coords[:, 0], select_coords[:, 1]]  # (N_rand, 3)\n",
    "\n",
    "        #####  Core optimization loop  #####\n",
    "        rgb, disp, acc, extras = render(H, W, K, chunk=args.chunk, rays=batch_rays,\n",
    "                                                verbose=i < 10, retraw=True,\n",
    "                                                **render_kwargs_train)\n",
    "\n",
    "        optimizer.zero_grad()\n",
    "        img_loss = img2mse(rgb, target_s)\n",
    "        trans = extras['raw'][...,-1]\n",
    "        loss = img_loss\n",
    "        psnr = mse2psnr(img_loss)\n",
    "\n",
    "        if 'rgb0' in extras:\n",
    "            img_loss0 = img2mse(extras['rgb0'], target_s)\n",
    "            loss = loss + img_loss0\n",
    "            psnr0 = mse2psnr(img_loss0)\n",
    "\n",
    "        loss.backward()\n",
    "        optimizer.step()\n",
    "\n",
    "        # NOTE: IMPORTANT!\n",
    "        ###   update learning rate   ###\n",
    "        decay_rate = 0.1\n",
    "        decay_steps = args.lrate_decay * 1000\n",
    "        new_lrate = args.lrate * (decay_rate ** (global_step / decay_steps))\n",
    "        for param_group in optimizer.param_groups:\n",
    "            param_group['lr'] = new_lrate\n",
    "        ################################\n",
    "\n",
    "        dt = time.time()-time0\n",
    "        # print(f\"Step: {global_step}, Loss: {loss}, Time: {dt}\")\n",
    "        #####           end            #####\n",
    "\n",
    "        # Rest is logging\n",
    "        if i%args.i_weights==0:\n",
    "            path = os.path.join(basedir, expname, '{:06d}.tar'.format(i))\n",
    "            torch.save({\n",
    "                'global_step': global_step,\n",
    "                'network_fn_state_dict': render_kwargs_train['network_fn'].state_dict(),\n",
    "                'network_fine_state_dict': render_kwargs_train['network_fine'].state_dict(),\n",
    "                'optimizer_state_dict': optimizer.state_dict(),\n",
    "            }, path)\n",
    "            print('Saved checkpoints at', path)\n",
    "\n",
    "        if i%args.i_video==0 and i > 0:\n",
    "            # Turn on testing mode\n",
    "            with torch.no_grad():\n",
    "                rgbs, disps = render_path(render_poses, hwf, K, args.chunk, render_kwargs_test)\n",
    "            print('Done, saving', rgbs.shape, disps.shape)\n",
    "            moviebase = os.path.join(basedir, expname, '{}_spiral_{:06d}_'.format(expname, i))\n",
    "            imageio.mimwrite(moviebase + 'rgb.mp4', to8b(rgbs), fps=30, quality=8)\n",
    "            imageio.mimwrite(moviebase + 'disp.mp4', to8b(disps / np.max(disps)), fps=30, quality=8)\n",
    "\n",
    "            # if args.use_viewdirs:\n",
    "            #     render_kwargs_test['c2w_staticcam'] = render_poses[0][:3,:4]\n",
    "            #     with torch.no_grad():\n",
    "            #         rgbs_still, _ = render_path(render_poses, hwf, args.chunk, render_kwargs_test)\n",
    "            #     render_kwargs_test['c2w_staticcam'] = None\n",
    "            #     imageio.mimwrite(moviebase + 'rgb_still.mp4', to8b(rgbs_still), fps=30, quality=8)\n",
    "\n",
    "        if i%args.i_testset==0 and i > 0:\n",
    "            testsavedir = os.path.join(basedir, expname, 'testset_{:06d}'.format(i))\n",
    "            os.makedirs(testsavedir, exist_ok=True)\n",
    "            print('test poses shape', poses[i_test].shape)\n",
    "            with torch.no_grad():\n",
    "                render_path(torch.Tensor(poses[i_test]).to(device), hwf, K, args.chunk, render_kwargs_test, gt_imgs=images[i_test], savedir=testsavedir)\n",
    "            print('Saved test set')\n",
    "\n",
    "\n",
    "    \n",
    "        if i%args.i_print==0:\n",
    "            tqdm.write(f\"[TRAIN] Iter: {i} Loss: {loss.item()}  PSNR: {psnr.item()}\")\n",
    "        \"\"\"\n",
    "            print(expname, i, psnr.numpy(), loss.numpy(), global_step.numpy())\n",
    "            print('iter time {:.05f}'.format(dt))\n",
    "\n",
    "            with tf.contrib.summary.record_summaries_every_n_global_steps(args.i_print):\n",
    "                tf.contrib.summary.scalar('loss', loss)\n",
    "                tf.contrib.summary.scalar('psnr', psnr)\n",
    "                tf.contrib.summary.histogram('tran', trans)\n",
    "                if args.N_importance > 0:\n",
    "                    tf.contrib.summary.scalar('psnr0', psnr0)\n",
    "\n",
    "\n",
    "            if i%args.i_img==0:\n",
    "\n",
    "                # Log a rendered validation view to Tensorboard\n",
    "                img_i=np.random.choice(i_val)\n",
    "                target = images[img_i]\n",
    "                pose = poses[img_i, :3,:4]\n",
    "                with torch.no_grad():\n",
    "                    rgb, disp, acc, extras = render(H, W, focal, chunk=args.chunk, c2w=pose,\n",
    "                                                        **render_kwargs_test)\n",
    "\n",
    "                psnr = mse2psnr(img2mse(rgb, target))\n",
    "\n",
    "                with tf.contrib.summary.record_summaries_every_n_global_steps(args.i_img):\n",
    "\n",
    "                    tf.contrib.summary.image('rgb', to8b(rgb)[tf.newaxis])\n",
    "                    tf.contrib.summary.image('disp', disp[tf.newaxis,...,tf.newaxis])\n",
    "                    tf.contrib.summary.image('acc', acc[tf.newaxis,...,tf.newaxis])\n",
    "\n",
    "                    tf.contrib.summary.scalar('psnr_holdout', psnr)\n",
    "                    tf.contrib.summary.image('rgb_holdout', target[tf.newaxis])\n",
    "\n",
    "\n",
    "                if args.N_importance > 0:\n",
    "\n",
    "                    with tf.contrib.summary.record_summaries_every_n_global_steps(args.i_img):\n",
    "                        tf.contrib.summary.image('rgb0', to8b(extras['rgb0'])[tf.newaxis])\n",
    "                        tf.contrib.summary.image('disp0', extras['disp0'][tf.newaxis,...,tf.newaxis])\n",
    "                        tf.contrib.summary.image('z_std', extras['z_std'][tf.newaxis,...,tf.newaxis])\n",
    "        \"\"\"\n",
    "\n",
    "        global_step += 1"
   ]
  },
  {
   "cell_type": "code",
   "execution_count": 21,
   "metadata": {
    "pixiedust": {
     "displayParams": {}
    }
   },
   "outputs": [
    {
     "name": "stdout",
     "output_type": "stream",
     "text": [
      "blender\n",
      "Loaded blender (138, 400, 400, 4) torch.Size([40, 4, 4]) [400, 400, 555.5555155968841] /notebooks/data/nerf_synthetic/lego\n"
     ]
    }
   ],
   "source": [
    "torch.set_default_tensor_type('torch.cuda.FloatTensor')\n",
    "\n",
    "args = Args()\n",
    "args.dataset_type = 'blender'\n",
    "args.datadir = '/notebooks/data/nerf_synthetic/lego'\n",
    "\n",
    "#%%pixie_debugger\n",
    "# Load data\n",
    "print(args.dataset_type)\n",
    "K = None\n",
    "if args.dataset_type == 'llff':\n",
    "    images, poses, bds, render_poses, i_test = parse_liff(args.datadir,args.factor,args.spherify,args.llffhold,recenter=True,bd_factor=75)\n",
    "elif args.dataset_type == 'blender':\n",
    "    images, poses, render_poses, hwf, i_split = parse_blender(args.datadir, args.half_res, args.testskip,args.white_bkgd)\n",
    "elif args.dataset_type == 'LINEMOD':\n",
    "    parse_linemod(args.datadir, args.half_res, args.testskip,args.white_bkgd)\n",
    "elif args.dataset_type == 'deepvoxels':\n",
    "    parse_deepvoxels(args.shape,args.datadir,args.testskip)\n",
    "else:\n",
    "    print('Unknown dataset type', args.dataset_type, 'exiting')\n",
    "\n",
    "# Cast intrinsics to right types\n",
    "H, W, focal = hwf\n",
    "H, W = int(H), int(W)\n",
    "hwf = [H, W, focal]\n",
    "\n",
    "if K is None:\n",
    "    K = np.array([\n",
    "        [focal, 0, 0.5*W],\n",
    "        [0, focal, 0.5*H],\n",
    "        [0, 0, 1]\n",
    "    ])"
   ]
  },
  {
   "cell_type": "code",
   "execution_count": 24,
   "metadata": {},
   "outputs": [],
   "source": [
    "args.render_test=None\n",
    "if args.render_test:\n",
    "    render_poses = np.array(poses[i_test])"
   ]
  },
  {
   "cell_type": "code",
   "execution_count": null,
   "metadata": {},
   "outputs": [],
   "source": [
    "!pip install snoop"
   ]
  },
  {
   "cell_type": "code",
   "execution_count": 31,
   "metadata": {},
   "outputs": [],
   "source": [
    "import snoop\n",
    "from snoop import pp"
   ]
  },
  {
   "cell_type": "code",
   "execution_count": 36,
   "metadata": {},
   "outputs": [
    {
     "name": "stderr",
     "output_type": "stream",
     "text": [
      "03:34:02.47 LOG:\n",
      "03:34:02.48 .... basedir = '/notebooks/training'\n",
      "03:34:02.48 LOG:\n",
      "03:34:02.48 .... expname = 'lego'\n",
      "03:34:02.48 LOG:\n",
      "03:34:02.48 .... f = '/notebooks/training/lego/args.txt'\n",
      "03:34:02.49 LOG:\n",
      "03:34:02.49 .... args.config = 'configs/lego.txt'\n"
     ]
    }
   ],
   "source": [
    "args.expname='lego'\n",
    "args.config='configs/lego.txt'\n",
    "#@snoop\n",
    "# Create log dir and copy the config file\n",
    "basedir = args.basedir\n",
    "pp(basedir)\n",
    "expname = args.expname\n",
    "pp(expname)\n",
    "os.makedirs(os.path.join(basedir, expname), exist_ok=True)\n",
    "f = os.path.join(basedir, expname, 'args.txt')\n",
    "pp(f)\n",
    "with open(f, 'w') as file:\n",
    "    for arg in sorted(vars(args)):\n",
    "        attr = getattr(args, arg)\n",
    "        file.write('{} = {}\\n'.format(arg, attr))\n",
    "pp(args.config)        \n",
    "if args.config is not None:\n",
    "    f = os.path.join(basedir, expname, 'config.txt')\n",
    "    with open(f, 'w') as file:\n",
    "        file.write(open(args.config, 'r').read())"
   ]
  },
  {
   "cell_type": "code",
   "execution_count": 38,
   "metadata": {},
   "outputs": [
    {
     "name": "stdout",
     "output_type": "stream",
     "text": [
      "Found ckpts []\n",
      "Not ndc!\n"
     ]
    }
   ],
   "source": [
    "# Create nerf model\n",
    "render_kwargs_train, render_kwargs_test, start, grad_vars, optimizer = create_nerf(args)\n",
    "global_step = start"
   ]
  },
  {
   "cell_type": "code",
   "execution_count": 39,
   "metadata": {},
   "outputs": [],
   "source": [
    "near = 2. #TMP\n",
    "far = 6.\n",
    "\n",
    "bds_dict = {\n",
    "    'near' : near,\n",
    "    'far' : far,\n",
    "}\n",
    "render_kwargs_train.update(bds_dict)\n",
    "render_kwargs_test.update(bds_dict)"
   ]
  },
  {
   "cell_type": "code",
   "execution_count": 40,
   "metadata": {},
   "outputs": [],
   "source": [
    "# Move testing data to GPU\n",
    "render_poses = torch.Tensor(render_poses).to(device)"
   ]
  },
  {
   "cell_type": "code",
   "execution_count": 43,
   "metadata": {},
   "outputs": [
    {
     "name": "stdout",
     "output_type": "stream",
     "text": [
      "RENDER ONLY\n",
      "test poses shape torch.Size([40, 4, 4])\n"
     ]
    },
    {
     "name": "stderr",
     "output_type": "stream",
     "text": [
      "\r",
      "  0%|          | 0/40 [00:00<?, ?it/s]"
     ]
    },
    {
     "name": "stdout",
     "output_type": "stream",
     "text": [
      "0 0.5321710109710693\n",
      "! [Numerical Error] disp_map contains nan or inf.\n",
      "! [Numerical Error] disp_map contains nan or inf.\n",
      "! [Numerical Error] disp_map contains nan or inf.\n",
      "! [Numerical Error] disp_map contains nan or inf.\n",
      "! [Numerical Error] disp_map contains nan or inf.\n",
      "torch.Size([400, 400, 3]) torch.Size([400, 400])\n"
     ]
    },
    {
     "name": "stderr",
     "output_type": "stream",
     "text": [
      "\r",
      "  2%|▎         | 1/40 [00:08<05:15,  8.08s/it]"
     ]
    },
    {
     "name": "stdout",
     "output_type": "stream",
     "text": [
      "1 8.078967094421387\n",
      "! [Numerical Error] disp_map contains nan or inf.\n",
      "! [Numerical Error] disp_map contains nan or inf.\n",
      "! [Numerical Error] disp_map contains nan or inf.\n",
      "! [Numerical Error] disp_map contains nan or inf.\n"
     ]
    },
    {
     "name": "stderr",
     "output_type": "stream",
     "text": [
      "\r",
      "  5%|▌         | 2/40 [00:11<03:18,  5.23s/it]"
     ]
    },
    {
     "name": "stdout",
     "output_type": "stream",
     "text": [
      "! [Numerical Error] disp_map contains nan or inf.\n",
      "2 3.2371444702148438\n",
      "! [Numerical Error] disp_map contains nan or inf.\n",
      "! [Numerical Error] disp_map contains nan or inf.\n",
      "! [Numerical Error] disp_map contains nan or inf.\n",
      "! [Numerical Error] disp_map contains nan or inf.\n"
     ]
    },
    {
     "name": "stderr",
     "output_type": "stream",
     "text": [
      "\r",
      "  8%|▊         | 3/40 [00:14<02:39,  4.32s/it]"
     ]
    },
    {
     "name": "stdout",
     "output_type": "stream",
     "text": [
      "! [Numerical Error] disp_map contains nan or inf.\n",
      "3 3.2296385765075684\n",
      "! [Numerical Error] disp_map contains nan or inf.\n",
      "! [Numerical Error] disp_map contains nan or inf.\n",
      "! [Numerical Error] disp_map contains nan or inf.\n",
      "! [Numerical Error] disp_map contains nan or inf.\n"
     ]
    },
    {
     "name": "stderr",
     "output_type": "stream",
     "text": [
      "\r",
      " 10%|█         | 4/40 [00:17<02:19,  3.89s/it]"
     ]
    },
    {
     "name": "stdout",
     "output_type": "stream",
     "text": [
      "! [Numerical Error] disp_map contains nan or inf.\n",
      "4 3.231632947921753\n",
      "! [Numerical Error] disp_map contains nan or inf.\n",
      "! [Numerical Error] disp_map contains nan or inf.\n",
      "! [Numerical Error] disp_map contains nan or inf.\n",
      "! [Numerical Error] disp_map contains nan or inf.\n"
     ]
    },
    {
     "name": "stderr",
     "output_type": "stream",
     "text": [
      "\r",
      " 12%|█▎        | 5/40 [00:21<02:08,  3.68s/it]"
     ]
    },
    {
     "name": "stdout",
     "output_type": "stream",
     "text": [
      "! [Numerical Error] disp_map contains nan or inf.\n",
      "5 3.3029046058654785\n",
      "! [Numerical Error] disp_map contains nan or inf.\n",
      "! [Numerical Error] disp_map contains nan or inf.\n",
      "! [Numerical Error] disp_map contains nan or inf.\n",
      "! [Numerical Error] disp_map contains nan or inf.\n"
     ]
    },
    {
     "name": "stderr",
     "output_type": "stream",
     "text": [
      "\r",
      " 15%|█▌        | 6/40 [00:24<02:00,  3.53s/it]"
     ]
    },
    {
     "name": "stdout",
     "output_type": "stream",
     "text": [
      "! [Numerical Error] disp_map contains nan or inf.\n",
      "6 3.2427501678466797\n",
      "! [Numerical Error] disp_map contains nan or inf.\n",
      "! [Numerical Error] disp_map contains nan or inf.\n",
      "! [Numerical Error] disp_map contains nan or inf.\n",
      "! [Numerical Error] disp_map contains nan or inf.\n"
     ]
    },
    {
     "name": "stderr",
     "output_type": "stream",
     "text": [
      "\r",
      " 18%|█▊        | 7/40 [00:27<01:53,  3.44s/it]"
     ]
    },
    {
     "name": "stdout",
     "output_type": "stream",
     "text": [
      "! [Numerical Error] disp_map contains nan or inf.\n",
      "7 3.2475438117980957\n",
      "! [Numerical Error] disp_map contains nan or inf.\n",
      "! [Numerical Error] disp_map contains nan or inf.\n",
      "! [Numerical Error] disp_map contains nan or inf.\n",
      "! [Numerical Error] disp_map contains nan or inf.\n"
     ]
    },
    {
     "name": "stderr",
     "output_type": "stream",
     "text": [
      "\r",
      " 20%|██        | 8/40 [00:30<01:48,  3.38s/it]"
     ]
    },
    {
     "name": "stdout",
     "output_type": "stream",
     "text": [
      "! [Numerical Error] disp_map contains nan or inf.\n",
      "8 3.2517807483673096\n",
      "! [Numerical Error] disp_map contains nan or inf.\n",
      "! [Numerical Error] disp_map contains nan or inf.\n",
      "! [Numerical Error] disp_map contains nan or inf.\n",
      "! [Numerical Error] disp_map contains nan or inf.\n"
     ]
    },
    {
     "name": "stderr",
     "output_type": "stream",
     "text": [
      "\r",
      " 22%|██▎       | 9/40 [00:34<01:43,  3.34s/it]"
     ]
    },
    {
     "name": "stdout",
     "output_type": "stream",
     "text": [
      "! [Numerical Error] disp_map contains nan or inf.\n",
      "9 3.258179187774658\n",
      "! [Numerical Error] disp_map contains nan or inf.\n",
      "! [Numerical Error] disp_map contains nan or inf.\n",
      "! [Numerical Error] disp_map contains nan or inf.\n",
      "! [Numerical Error] disp_map contains nan or inf.\n"
     ]
    },
    {
     "name": "stderr",
     "output_type": "stream",
     "text": [
      "\r",
      " 25%|██▌       | 10/40 [00:37<01:39,  3.32s/it]"
     ]
    },
    {
     "name": "stdout",
     "output_type": "stream",
     "text": [
      "! [Numerical Error] disp_map contains nan or inf.\n",
      "10 3.2680609226226807\n",
      "! [Numerical Error] disp_map contains nan or inf.\n",
      "! [Numerical Error] disp_map contains nan or inf.\n",
      "! [Numerical Error] disp_map contains nan or inf.\n",
      "! [Numerical Error] disp_map contains nan or inf.\n"
     ]
    },
    {
     "name": "stderr",
     "output_type": "stream",
     "text": [
      "\r",
      " 28%|██▊       | 11/40 [00:40<01:35,  3.30s/it]"
     ]
    },
    {
     "name": "stdout",
     "output_type": "stream",
     "text": [
      "! [Numerical Error] disp_map contains nan or inf.\n",
      "11 3.268460512161255\n",
      "! [Numerical Error] disp_map contains nan or inf.\n",
      "! [Numerical Error] disp_map contains nan or inf.\n",
      "! [Numerical Error] disp_map contains nan or inf.\n",
      "! [Numerical Error] disp_map contains nan or inf.\n"
     ]
    },
    {
     "name": "stderr",
     "output_type": "stream",
     "text": [
      "\r",
      " 30%|███       | 12/40 [00:43<01:32,  3.29s/it]"
     ]
    },
    {
     "name": "stdout",
     "output_type": "stream",
     "text": [
      "! [Numerical Error] disp_map contains nan or inf.\n",
      "12 3.275484800338745\n",
      "! [Numerical Error] disp_map contains nan or inf.\n",
      "! [Numerical Error] disp_map contains nan or inf.\n",
      "! [Numerical Error] disp_map contains nan or inf.\n",
      "! [Numerical Error] disp_map contains nan or inf.\n"
     ]
    },
    {
     "name": "stderr",
     "output_type": "stream",
     "text": [
      "\r",
      " 32%|███▎      | 13/40 [00:47<01:28,  3.29s/it]"
     ]
    },
    {
     "name": "stdout",
     "output_type": "stream",
     "text": [
      "! [Numerical Error] disp_map contains nan or inf.\n",
      "13 3.286348342895508\n",
      "! [Numerical Error] disp_map contains nan or inf.\n",
      "! [Numerical Error] disp_map contains nan or inf.\n",
      "! [Numerical Error] disp_map contains nan or inf.\n",
      "! [Numerical Error] disp_map contains nan or inf.\n"
     ]
    },
    {
     "name": "stderr",
     "output_type": "stream",
     "text": [
      "\r",
      " 35%|███▌      | 14/40 [00:50<01:25,  3.29s/it]"
     ]
    },
    {
     "name": "stdout",
     "output_type": "stream",
     "text": [
      "! [Numerical Error] disp_map contains nan or inf.\n",
      "14 3.2957189083099365\n",
      "! [Numerical Error] disp_map contains nan or inf.\n",
      "! [Numerical Error] disp_map contains nan or inf.\n",
      "! [Numerical Error] disp_map contains nan or inf.\n",
      "! [Numerical Error] disp_map contains nan or inf.\n"
     ]
    },
    {
     "name": "stderr",
     "output_type": "stream",
     "text": [
      "\r",
      " 38%|███▊      | 15/40 [00:53<01:22,  3.30s/it]"
     ]
    },
    {
     "name": "stdout",
     "output_type": "stream",
     "text": [
      "! [Numerical Error] disp_map contains nan or inf.\n",
      "15 3.303598165512085\n",
      "! [Numerical Error] disp_map contains nan or inf.\n",
      "! [Numerical Error] disp_map contains nan or inf.\n",
      "! [Numerical Error] disp_map contains nan or inf.\n",
      "! [Numerical Error] disp_map contains nan or inf.\n"
     ]
    },
    {
     "name": "stderr",
     "output_type": "stream",
     "text": [
      "\r",
      " 40%|████      | 16/40 [00:57<01:19,  3.30s/it]"
     ]
    },
    {
     "name": "stdout",
     "output_type": "stream",
     "text": [
      "! [Numerical Error] disp_map contains nan or inf.\n",
      "16 3.309648036956787\n",
      "! [Numerical Error] disp_map contains nan or inf.\n",
      "! [Numerical Error] disp_map contains nan or inf.\n",
      "! [Numerical Error] disp_map contains nan or inf.\n",
      "! [Numerical Error] disp_map contains nan or inf.\n"
     ]
    },
    {
     "name": "stderr",
     "output_type": "stream",
     "text": [
      "\r",
      " 42%|████▎     | 17/40 [01:00<01:16,  3.30s/it]"
     ]
    },
    {
     "name": "stdout",
     "output_type": "stream",
     "text": [
      "! [Numerical Error] disp_map contains nan or inf.\n",
      "17 3.314183473587036\n",
      "! [Numerical Error] disp_map contains nan or inf.\n",
      "! [Numerical Error] disp_map contains nan or inf.\n",
      "! [Numerical Error] disp_map contains nan or inf.\n",
      "! [Numerical Error] disp_map contains nan or inf.\n"
     ]
    },
    {
     "name": "stderr",
     "output_type": "stream",
     "text": [
      "\r",
      " 45%|████▌     | 18/40 [01:03<01:13,  3.35s/it]"
     ]
    },
    {
     "name": "stdout",
     "output_type": "stream",
     "text": [
      "! [Numerical Error] disp_map contains nan or inf.\n",
      "18 3.453310012817383\n",
      "! [Numerical Error] disp_map contains nan or inf.\n",
      "! [Numerical Error] disp_map contains nan or inf.\n",
      "! [Numerical Error] disp_map contains nan or inf.\n",
      "! [Numerical Error] disp_map contains nan or inf.\n"
     ]
    },
    {
     "name": "stderr",
     "output_type": "stream",
     "text": [
      "\r",
      " 48%|████▊     | 19/40 [01:07<01:11,  3.39s/it]"
     ]
    },
    {
     "name": "stdout",
     "output_type": "stream",
     "text": [
      "! [Numerical Error] disp_map contains nan or inf.\n",
      "19 3.4934191703796387\n",
      "! [Numerical Error] disp_map contains nan or inf.\n",
      "! [Numerical Error] disp_map contains nan or inf.\n",
      "! [Numerical Error] disp_map contains nan or inf.\n",
      "! [Numerical Error] disp_map contains nan or inf.\n"
     ]
    },
    {
     "name": "stderr",
     "output_type": "stream",
     "text": [
      "\r",
      " 50%|█████     | 20/40 [01:10<01:08,  3.42s/it]"
     ]
    },
    {
     "name": "stdout",
     "output_type": "stream",
     "text": [
      "! [Numerical Error] disp_map contains nan or inf.\n",
      "20 3.4971721172332764\n",
      "! [Numerical Error] disp_map contains nan or inf.\n",
      "! [Numerical Error] disp_map contains nan or inf.\n",
      "! [Numerical Error] disp_map contains nan or inf.\n",
      "! [Numerical Error] disp_map contains nan or inf.\n"
     ]
    },
    {
     "name": "stderr",
     "output_type": "stream",
     "text": [
      "\r",
      " 52%|█████▎    | 21/40 [01:14<01:04,  3.40s/it]"
     ]
    },
    {
     "name": "stdout",
     "output_type": "stream",
     "text": [
      "! [Numerical Error] disp_map contains nan or inf.\n",
      "21 3.356447219848633\n",
      "! [Numerical Error] disp_map contains nan or inf.\n",
      "! [Numerical Error] disp_map contains nan or inf.\n",
      "! [Numerical Error] disp_map contains nan or inf.\n",
      "! [Numerical Error] disp_map contains nan or inf.\n"
     ]
    },
    {
     "name": "stderr",
     "output_type": "stream",
     "text": [
      "\r",
      " 55%|█████▌    | 22/40 [01:17<01:02,  3.47s/it]"
     ]
    },
    {
     "name": "stdout",
     "output_type": "stream",
     "text": [
      "! [Numerical Error] disp_map contains nan or inf.\n",
      "22 3.625826120376587\n",
      "! [Numerical Error] disp_map contains nan or inf.\n",
      "! [Numerical Error] disp_map contains nan or inf.\n",
      "! [Numerical Error] disp_map contains nan or inf.\n",
      "! [Numerical Error] disp_map contains nan or inf.\n"
     ]
    },
    {
     "name": "stderr",
     "output_type": "stream",
     "text": [
      "\r",
      " 57%|█████▊    | 23/40 [01:21<00:59,  3.52s/it]"
     ]
    },
    {
     "name": "stdout",
     "output_type": "stream",
     "text": [
      "! [Numerical Error] disp_map contains nan or inf.\n",
      "23 3.638834238052368\n",
      "! [Numerical Error] disp_map contains nan or inf.\n",
      "! [Numerical Error] disp_map contains nan or inf.\n",
      "! [Numerical Error] disp_map contains nan or inf.\n",
      "! [Numerical Error] disp_map contains nan or inf.\n"
     ]
    },
    {
     "name": "stderr",
     "output_type": "stream",
     "text": [
      "\r",
      " 60%|██████    | 24/40 [01:25<00:56,  3.54s/it]"
     ]
    },
    {
     "name": "stdout",
     "output_type": "stream",
     "text": [
      "! [Numerical Error] disp_map contains nan or inf.\n",
      "24 3.6009347438812256\n",
      "! [Numerical Error] disp_map contains nan or inf.\n",
      "! [Numerical Error] disp_map contains nan or inf.\n",
      "! [Numerical Error] disp_map contains nan or inf.\n",
      "! [Numerical Error] disp_map contains nan or inf.\n"
     ]
    },
    {
     "name": "stderr",
     "output_type": "stream",
     "text": [
      "\r",
      " 62%|██████▎   | 25/40 [01:28<00:53,  3.54s/it]"
     ]
    },
    {
     "name": "stdout",
     "output_type": "stream",
     "text": [
      "! [Numerical Error] disp_map contains nan or inf.\n",
      "25 3.5150835514068604\n",
      "! [Numerical Error] disp_map contains nan or inf.\n",
      "! [Numerical Error] disp_map contains nan or inf.\n",
      "! [Numerical Error] disp_map contains nan or inf.\n",
      "! [Numerical Error] disp_map contains nan or inf.\n"
     ]
    },
    {
     "name": "stderr",
     "output_type": "stream",
     "text": [
      "\r",
      " 65%|██████▌   | 26/40 [01:32<00:49,  3.51s/it]"
     ]
    },
    {
     "name": "stdout",
     "output_type": "stream",
     "text": [
      "! [Numerical Error] disp_map contains nan or inf.\n",
      "26 3.4616849422454834\n",
      "! [Numerical Error] disp_map contains nan or inf.\n",
      "! [Numerical Error] disp_map contains nan or inf.\n",
      "! [Numerical Error] disp_map contains nan or inf.\n",
      "! [Numerical Error] disp_map contains nan or inf.\n"
     ]
    },
    {
     "name": "stderr",
     "output_type": "stream",
     "text": [
      "\r",
      " 68%|██████▊   | 27/40 [01:35<00:45,  3.49s/it]"
     ]
    },
    {
     "name": "stdout",
     "output_type": "stream",
     "text": [
      "! [Numerical Error] disp_map contains nan or inf.\n",
      "27 3.4309074878692627\n",
      "! [Numerical Error] disp_map contains nan or inf.\n",
      "! [Numerical Error] disp_map contains nan or inf.\n",
      "! [Numerical Error] disp_map contains nan or inf.\n",
      "! [Numerical Error] disp_map contains nan or inf.\n"
     ]
    },
    {
     "name": "stderr",
     "output_type": "stream",
     "text": [
      "\r",
      " 70%|███████   | 28/40 [01:39<00:42,  3.53s/it]"
     ]
    },
    {
     "name": "stdout",
     "output_type": "stream",
     "text": [
      "! [Numerical Error] disp_map contains nan or inf.\n",
      "28 3.637690544128418\n",
      "! [Numerical Error] disp_map contains nan or inf.\n",
      "! [Numerical Error] disp_map contains nan or inf.\n",
      "! [Numerical Error] disp_map contains nan or inf.\n",
      "! [Numerical Error] disp_map contains nan or inf.\n"
     ]
    },
    {
     "name": "stderr",
     "output_type": "stream",
     "text": [
      "\r",
      " 72%|███████▎  | 29/40 [01:42<00:39,  3.55s/it]"
     ]
    },
    {
     "name": "stdout",
     "output_type": "stream",
     "text": [
      "! [Numerical Error] disp_map contains nan or inf.\n",
      "29 3.5883936882019043\n",
      "! [Numerical Error] disp_map contains nan or inf.\n",
      "! [Numerical Error] disp_map contains nan or inf.\n",
      "! [Numerical Error] disp_map contains nan or inf.\n",
      "! [Numerical Error] disp_map contains nan or inf.\n"
     ]
    },
    {
     "name": "stderr",
     "output_type": "stream",
     "text": [
      "\r",
      " 75%|███████▌  | 30/40 [01:46<00:35,  3.54s/it]"
     ]
    },
    {
     "name": "stdout",
     "output_type": "stream",
     "text": [
      "! [Numerical Error] disp_map contains nan or inf.\n",
      "30 3.512120008468628\n",
      "! [Numerical Error] disp_map contains nan or inf.\n",
      "! [Numerical Error] disp_map contains nan or inf.\n",
      "! [Numerical Error] disp_map contains nan or inf.\n",
      "! [Numerical Error] disp_map contains nan or inf.\n"
     ]
    },
    {
     "name": "stderr",
     "output_type": "stream",
     "text": [
      "\r",
      " 78%|███████▊  | 31/40 [01:49<00:32,  3.57s/it]"
     ]
    },
    {
     "name": "stdout",
     "output_type": "stream",
     "text": [
      "! [Numerical Error] disp_map contains nan or inf.\n",
      "31 3.634326457977295\n",
      "! [Numerical Error] disp_map contains nan or inf.\n",
      "! [Numerical Error] disp_map contains nan or inf.\n",
      "! [Numerical Error] disp_map contains nan or inf.\n",
      "! [Numerical Error] disp_map contains nan or inf.\n"
     ]
    },
    {
     "name": "stderr",
     "output_type": "stream",
     "text": [
      "\r",
      " 80%|████████  | 32/40 [01:53<00:28,  3.58s/it]"
     ]
    },
    {
     "name": "stdout",
     "output_type": "stream",
     "text": [
      "! [Numerical Error] disp_map contains nan or inf.\n",
      "32 3.6119229793548584\n",
      "! [Numerical Error] disp_map contains nan or inf.\n",
      "! [Numerical Error] disp_map contains nan or inf.\n",
      "! [Numerical Error] disp_map contains nan or inf.\n",
      "! [Numerical Error] disp_map contains nan or inf.\n"
     ]
    },
    {
     "name": "stderr",
     "output_type": "stream",
     "text": [
      "\r",
      " 82%|████████▎ | 33/40 [01:57<00:24,  3.57s/it]"
     ]
    },
    {
     "name": "stdout",
     "output_type": "stream",
     "text": [
      "! [Numerical Error] disp_map contains nan or inf.\n",
      "33 3.54581880569458\n",
      "! [Numerical Error] disp_map contains nan or inf.\n",
      "! [Numerical Error] disp_map contains nan or inf.\n",
      "! [Numerical Error] disp_map contains nan or inf.\n",
      "! [Numerical Error] disp_map contains nan or inf.\n"
     ]
    },
    {
     "name": "stderr",
     "output_type": "stream",
     "text": [
      "\r",
      " 85%|████████▌ | 34/40 [02:00<00:21,  3.59s/it]"
     ]
    },
    {
     "name": "stdout",
     "output_type": "stream",
     "text": [
      "! [Numerical Error] disp_map contains nan or inf.\n",
      "34 3.6334521770477295\n",
      "! [Numerical Error] disp_map contains nan or inf.\n",
      "! [Numerical Error] disp_map contains nan or inf.\n",
      "! [Numerical Error] disp_map contains nan or inf.\n",
      "! [Numerical Error] disp_map contains nan or inf.\n"
     ]
    },
    {
     "name": "stderr",
     "output_type": "stream",
     "text": [
      "\r",
      " 88%|████████▊ | 35/40 [02:04<00:18,  3.61s/it]"
     ]
    },
    {
     "name": "stdout",
     "output_type": "stream",
     "text": [
      "! [Numerical Error] disp_map contains nan or inf.\n",
      "35 3.6611571311950684\n",
      "! [Numerical Error] disp_map contains nan or inf.\n",
      "! [Numerical Error] disp_map contains nan or inf.\n",
      "! [Numerical Error] disp_map contains nan or inf.\n",
      "! [Numerical Error] disp_map contains nan or inf.\n"
     ]
    },
    {
     "name": "stderr",
     "output_type": "stream",
     "text": [
      "\r",
      " 90%|█████████ | 36/40 [02:07<00:14,  3.57s/it]"
     ]
    },
    {
     "name": "stdout",
     "output_type": "stream",
     "text": [
      "! [Numerical Error] disp_map contains nan or inf.\n",
      "36 3.4834628105163574\n",
      "! [Numerical Error] disp_map contains nan or inf.\n",
      "! [Numerical Error] disp_map contains nan or inf.\n",
      "! [Numerical Error] disp_map contains nan or inf.\n",
      "! [Numerical Error] disp_map contains nan or inf.\n"
     ]
    },
    {
     "name": "stderr",
     "output_type": "stream",
     "text": [
      "\r",
      " 92%|█████████▎| 37/40 [02:11<00:10,  3.51s/it]"
     ]
    },
    {
     "name": "stdout",
     "output_type": "stream",
     "text": [
      "! [Numerical Error] disp_map contains nan or inf.\n",
      "37 3.36555814743042\n",
      "! [Numerical Error] disp_map contains nan or inf.\n",
      "! [Numerical Error] disp_map contains nan or inf.\n",
      "! [Numerical Error] disp_map contains nan or inf.\n",
      "! [Numerical Error] disp_map contains nan or inf.\n"
     ]
    },
    {
     "name": "stderr",
     "output_type": "stream",
     "text": [
      "\r",
      " 95%|█████████▌| 38/40 [02:14<00:07,  3.55s/it]"
     ]
    },
    {
     "name": "stdout",
     "output_type": "stream",
     "text": [
      "! [Numerical Error] disp_map contains nan or inf.\n",
      "38 3.6390957832336426\n",
      "! [Numerical Error] disp_map contains nan or inf.\n",
      "! [Numerical Error] disp_map contains nan or inf.\n",
      "! [Numerical Error] disp_map contains nan or inf.\n",
      "! [Numerical Error] disp_map contains nan or inf.\n"
     ]
    },
    {
     "name": "stderr",
     "output_type": "stream",
     "text": [
      "\r",
      " 98%|█████████▊| 39/40 [02:18<00:03,  3.55s/it]"
     ]
    },
    {
     "name": "stdout",
     "output_type": "stream",
     "text": [
      "! [Numerical Error] disp_map contains nan or inf.\n",
      "39 3.567676544189453\n",
      "! [Numerical Error] disp_map contains nan or inf.\n",
      "! [Numerical Error] disp_map contains nan or inf.\n",
      "! [Numerical Error] disp_map contains nan or inf.\n",
      "! [Numerical Error] disp_map contains nan or inf.\n"
     ]
    },
    {
     "name": "stderr",
     "output_type": "stream",
     "text": [
      "100%|██████████| 40/40 [02:21<00:00,  3.55s/it]"
     ]
    },
    {
     "name": "stdout",
     "output_type": "stream",
     "text": [
      "! [Numerical Error] disp_map contains nan or inf.\n",
      "Done rendering /notebooks/training/lego/renderonly_path_000000\n"
     ]
    },
    {
     "name": "stderr",
     "output_type": "stream",
     "text": [
      "\n"
     ]
    }
   ],
   "source": [
    "# Short circuit if only rendering out from trained model\n",
    "if args.render_only:\n",
    "    print('RENDER ONLY')\n",
    "    with torch.no_grad():\n",
    "        if args.render_test:\n",
    "            # render_test switches to test poses\n",
    "            images = images[i_test]\n",
    "        else:\n",
    "            # Default is smoother render_poses path\n",
    "            images = None\n",
    "\n",
    "        testsavedir = os.path.join(basedir, expname, 'renderonly_{}_{:06d}'.format('test' if args.render_test else 'path', start))\n",
    "        os.makedirs(testsavedir, exist_ok=True)\n",
    "        print('test poses shape', render_poses.shape)\n",
    "\n",
    "        rgbs, _ = render_path(render_poses, hwf, K, args.chunk, render_kwargs_test, gt_imgs=images, savedir=testsavedir, render_factor=args.render_factor)\n",
    "        print('Done rendering', testsavedir)\n",
    "        imageio.mimwrite(os.path.join(testsavedir, 'video.mp4'), to8b(rgbs), fps=30, quality=8)\n",
    "\n",
    "#        return"
   ]
  },
  {
   "cell_type": "code",
   "execution_count": 44,
   "metadata": {},
   "outputs": [],
   "source": [
    "# Prepare raybatch tensor if batching random rays\n",
    "N_rand = args.N_rand\n",
    "use_batching = not args.no_batching\n",
    "if use_batching:\n",
    "    # For random ray batching\n",
    "    print('get rays')\n",
    "    rays = np.stack([get_rays_np(H, W, K, p) for p in poses[:,:3,:4]], 0) # [N, ro+rd, H, W, 3]\n",
    "    print('done, concats')\n",
    "    rays_rgb = np.concatenate([rays, images[:,None]], 1) # [N, ro+rd+rgb, H, W, 3]\n",
    "    rays_rgb = np.transpose(rays_rgb, [0,2,3,1,4]) # [N, H, W, ro+rd+rgb, 3]\n",
    "    rays_rgb = np.stack([rays_rgb[i] for i in i_train], 0) # train images only\n",
    "    rays_rgb = np.reshape(rays_rgb, [-1,3,3]) # [(N-1)*H*W, ro+rd+rgb, 3]\n",
    "    rays_rgb = rays_rgb.astype(np.float32)\n",
    "    print('shuffle rays')\n",
    "    np.random.shuffle(rays_rgb)\n",
    "\n",
    "    print('done')\n",
    "    i_batch = 0"
   ]
  },
  {
   "cell_type": "code",
   "execution_count": 45,
   "metadata": {},
   "outputs": [
    {
     "name": "stdout",
     "output_type": "stream",
     "text": [
      "Begin\n"
     ]
    },
    {
     "ename": "NameError",
     "evalue": "name 'i_train' is not defined",
     "output_type": "error",
     "traceback": [
      "\u001b[0;31m---------------------------------------------------------------------------\u001b[0m",
      "\u001b[0;31mNameError\u001b[0m                                 Traceback (most recent call last)",
      "\u001b[0;32m<ipython-input-45-369e0cbd4716>\u001b[0m in \u001b[0;36m<module>\u001b[0;34m\u001b[0m\n\u001b[1;32m      9\u001b[0m \u001b[0mN_iters\u001b[0m \u001b[0;34m=\u001b[0m \u001b[0;36m200000\u001b[0m \u001b[0;34m+\u001b[0m \u001b[0;36m1\u001b[0m\u001b[0;34m\u001b[0m\u001b[0;34m\u001b[0m\u001b[0m\n\u001b[1;32m     10\u001b[0m \u001b[0mprint\u001b[0m\u001b[0;34m(\u001b[0m\u001b[0;34m'Begin'\u001b[0m\u001b[0;34m)\u001b[0m\u001b[0;34m\u001b[0m\u001b[0;34m\u001b[0m\u001b[0m\n\u001b[0;32m---> 11\u001b[0;31m \u001b[0mprint\u001b[0m\u001b[0;34m(\u001b[0m\u001b[0;34m'TRAIN views are'\u001b[0m\u001b[0;34m,\u001b[0m \u001b[0mi_train\u001b[0m\u001b[0;34m)\u001b[0m\u001b[0;34m\u001b[0m\u001b[0;34m\u001b[0m\u001b[0m\n\u001b[0m\u001b[1;32m     12\u001b[0m \u001b[0mprint\u001b[0m\u001b[0;34m(\u001b[0m\u001b[0;34m'TEST views are'\u001b[0m\u001b[0;34m,\u001b[0m \u001b[0mi_test\u001b[0m\u001b[0;34m)\u001b[0m\u001b[0;34m\u001b[0m\u001b[0;34m\u001b[0m\u001b[0m\n\u001b[1;32m     13\u001b[0m \u001b[0mprint\u001b[0m\u001b[0;34m(\u001b[0m\u001b[0;34m'VAL views are'\u001b[0m\u001b[0;34m,\u001b[0m \u001b[0mi_val\u001b[0m\u001b[0;34m)\u001b[0m\u001b[0;34m\u001b[0m\u001b[0;34m\u001b[0m\u001b[0m\n",
      "\u001b[0;31mNameError\u001b[0m: name 'i_train' is not defined"
     ]
    }
   ],
   "source": [
    "# Move training data to GPU\n",
    "if use_batching:\n",
    "    images = torch.Tensor(images).to(device)\n",
    "poses = torch.Tensor(poses).to(device)\n",
    "if use_batching:\n",
    "    rays_rgb = torch.Tensor(rays_rgb).to(device)\n",
    "\n",
    "\n",
    "N_iters = 200000 + 1\n",
    "print('Begin')\n",
    "print('TRAIN views are', i_train)\n",
    "print('TEST views are', i_test)\n",
    "print('VAL views are', i_val)"
   ]
  },
  {
   "cell_type": "code",
   "execution_count": null,
   "metadata": {},
   "outputs": [],
   "source": [
    "# Summary writers\n",
    "# writer = SummaryWriter(os.path.join(basedir, 'summaries', expname))\n",
    "    \n",
    "start = start + 1\n",
    "for i in trange(start, N_iters):\n",
    "time0 = time.time()\n",
    "\n",
    "# Sample random ray batch\n",
    "if use_batching:\n",
    "    # Random over all images\n",
    "    batch = rays_rgb[i_batch:i_batch+N_rand] # [B, 2+1, 3*?]\n",
    "    batch = torch.transpose(batch, 0, 1)\n",
    "    batch_rays, target_s = batch[:2], batch[2]\n",
    "\n",
    "    i_batch += N_rand\n",
    "    if i_batch >= rays_rgb.shape[0]:\n",
    "        print(\"Shuffle data after an epoch!\")\n",
    "        rand_idx = torch.randperm(rays_rgb.shape[0])\n",
    "        rays_rgb = rays_rgb[rand_idx]\n",
    "        i_batch = 0\n",
    "\n",
    "    else:\n",
    "        # Random from one image\n",
    "        img_i = np.random.choice(i_train)\n",
    "        target = images[img_i]\n",
    "        target = torch.Tensor(target).to(device)\n",
    "        pose = poses[img_i, :3,:4]\n",
    "\n",
    "        if N_rand is not None:\n",
    "            rays_o, rays_d = get_rays(H, W, K, torch.Tensor(pose))  # (H, W, 3), (H, W, 3)\n",
    "\n",
    "            if i < args.precrop_iters:\n",
    "                dH = int(H//2 * args.precrop_frac)\n",
    "                dW = int(W//2 * args.precrop_frac)\n",
    "                coords = torch.stack(\n",
    "                    torch.meshgrid(\n",
    "                        torch.linspace(H//2 - dH, H//2 + dH - 1, 2*dH), \n",
    "                        torch.linspace(W//2 - dW, W//2 + dW - 1, 2*dW)\n",
    "                    ), -1)\n",
    "                if i == start:\n",
    "                    print(f\"[Config] Center cropping of size {2*dH} x {2*dW} is enabled until iter {args.precrop_iters}\")                \n",
    "            else:\n",
    "                coords = torch.stack(torch.meshgrid(torch.linspace(0, H-1, H), torch.linspace(0, W-1, W)), -1)  # (H, W, 2)\n",
    "\n",
    "            coords = torch.reshape(coords, [-1,2])  # (H * W, 2)\n",
    "            select_inds = np.random.choice(coords.shape[0], size=[N_rand], replace=False)  # (N_rand,)\n",
    "            select_coords = coords[select_inds].long()  # (N_rand, 2)\n",
    "            rays_o = rays_o[select_coords[:, 0], select_coords[:, 1]]  # (N_rand, 3)\n",
    "            rays_d = rays_d[select_coords[:, 0], select_coords[:, 1]]  # (N_rand, 3)\n",
    "            batch_rays = torch.stack([rays_o, rays_d], 0)\n",
    "            target_s = target[select_coords[:, 0], select_coords[:, 1]]  # (N_rand, 3)\n",
    "\n",
    "    #####  Core optimization loop  #####\n",
    "    rgb, disp, acc, extras = render(H, W, K, chunk=args.chunk, rays=batch_rays,\n",
    "                                                verbose=i < 10, retraw=True,\n",
    "                                                **render_kwargs_train)\n",
    "\n",
    "    optimizer.zero_grad()\n",
    "    img_loss = img2mse(rgb, target_s)\n",
    "    trans = extras['raw'][...,-1]\n",
    "    loss = img_loss\n",
    "    psnr = mse2psnr(img_loss)\n",
    "\n",
    "    if 'rgb0' in extras:\n",
    "        img_loss0 = img2mse(extras['rgb0'], target_s)\n",
    "        loss = loss + img_loss0\n",
    "        psnr0 = mse2psnr(img_loss0)\n",
    "\n",
    "    loss.backward()\n",
    "    optimizer.step()\n",
    "\n",
    "    # NOTE: IMPORTANT!\n",
    "    ###   update learning rate   ###\n",
    "    decay_rate = 0.1\n",
    "    decay_steps = args.lrate_decay * 1000\n",
    "    new_lrate = args.lrate * (decay_rate ** (global_step / decay_steps))\n",
    "    for param_group in optimizer.param_groups:\n",
    "        param_group['lr'] = new_lrate\n",
    "    ################################\n",
    "\n",
    "    dt = time.time()-time0\n",
    "    # print(f\"Step: {global_step}, Loss: {loss}, Time: {dt}\")\n",
    "    #####           end            #####\n",
    "\n",
    "    # Rest is logging\n",
    "    if i%args.i_weights==0:\n",
    "        path = os.path.join(basedir, expname, '{:06d}.tar'.format(i))\n",
    "        torch.save({\n",
    "                'global_step': global_step,\n",
    "                'network_fn_state_dict': render_kwargs_train['network_fn'].state_dict(),\n",
    "                'network_fine_state_dict': render_kwargs_train['network_fine'].state_dict(),\n",
    "                'optimizer_state_dict': optimizer.state_dict(),\n",
    "        }, path)\n",
    "        print('Saved checkpoints at', path)\n",
    "\n",
    "    if i%args.i_video==0 and i > 0:\n",
    "        # Turn on testing mode\n",
    "        with torch.no_grad():\n",
    "            rgbs, disps = render_path(render_poses, hwf, K, args.chunk, render_kwargs_test)\n",
    "        print('Done, saving', rgbs.shape, disps.shape)\n",
    "        moviebase = os.path.join(basedir, expname, '{}_spiral_{:06d}_'.format(expname, i))\n",
    "        imageio.mimwrite(moviebase + 'rgb.mp4', to8b(rgbs), fps=30, quality=8)\n",
    "        imageio.mimwrite(moviebase + 'disp.mp4', to8b(disps / np.max(disps)), fps=30, quality=8)\n",
    "\n",
    "        # if args.use_viewdirs:\n",
    "        #     render_kwargs_test['c2w_staticcam'] = render_poses[0][:3,:4]\n",
    "        #     with torch.no_grad():\n",
    "        #         rgbs_still, _ = render_path(render_poses, hwf, args.chunk, render_kwargs_test)\n",
    "        #     render_kwargs_test['c2w_staticcam'] = None\n",
    "        #     imageio.mimwrite(moviebase + 'rgb_still.mp4', to8b(rgbs_still), fps=30, quality=8)\n",
    "\n",
    "    if i%args.i_testset==0 and i > 0:\n",
    "        testsavedir = os.path.join(basedir, expname, 'testset_{:06d}'.format(i))\n",
    "        os.makedirs(testsavedir, exist_ok=True)\n",
    "        print('test poses shape', poses[i_test].shape)\n",
    "        with torch.no_grad():\n",
    "            render_path(torch.Tensor(poses[i_test]).to(device), hwf, K, args.chunk, render_kwargs_test, gt_imgs=images[i_test], savedir=testsavedir)\n",
    "        print('Saved test set')\n",
    "\n",
    "\n",
    "    \n",
    "    if i%args.i_print==0:\n",
    "        tqdm.write(f\"[TRAIN] Iter: {i} Loss: {loss.item()}  PSNR: {psnr.item()}\")\n",
    "        \"\"\"\n",
    "            print(expname, i, psnr.numpy(), loss.numpy(), global_step.numpy())\n",
    "            print('iter time {:.05f}'.format(dt))\n",
    "\n",
    "            with tf.contrib.summary.record_summaries_every_n_global_steps(args.i_print):\n",
    "                tf.contrib.summary.scalar('loss', loss)\n",
    "                tf.contrib.summary.scalar('psnr', psnr)\n",
    "                tf.contrib.summary.histogram('tran', trans)\n",
    "                if args.N_importance > 0:\n",
    "                    tf.contrib.summary.scalar('psnr0', psnr0)\n",
    "\n",
    "\n",
    "            if i%args.i_img==0:\n",
    "\n",
    "                # Log a rendered validation view to Tensorboard\n",
    "                img_i=np.random.choice(i_val)\n",
    "                target = images[img_i]\n",
    "                pose = poses[img_i, :3,:4]\n",
    "                with torch.no_grad():\n",
    "                    rgb, disp, acc, extras = render(H, W, focal, chunk=args.chunk, c2w=pose,\n",
    "                                                        **render_kwargs_test)\n",
    "\n",
    "                psnr = mse2psnr(img2mse(rgb, target))\n",
    "\n",
    "                with tf.contrib.summary.record_summaries_every_n_global_steps(args.i_img):\n",
    "\n",
    "                    tf.contrib.summary.image('rgb', to8b(rgb)[tf.newaxis])\n",
    "                    tf.contrib.summary.image('disp', disp[tf.newaxis,...,tf.newaxis])\n",
    "                    tf.contrib.summary.image('acc', acc[tf.newaxis,...,tf.newaxis])\n",
    "\n",
    "                    tf.contrib.summary.scalar('psnr_holdout', psnr)\n",
    "                    tf.contrib.summary.image('rgb_holdout', target[tf.newaxis])\n",
    "\n",
    "\n",
    "                if args.N_importance > 0:\n",
    "\n",
    "                    with tf.contrib.summary.record_summaries_every_n_global_steps(args.i_img):\n",
    "                        tf.contrib.summary.image('rgb0', to8b(extras['rgb0'])[tf.newaxis])\n",
    "                        tf.contrib.summary.image('disp0', extras['disp0'][tf.newaxis,...,tf.newaxis])\n",
    "                        tf.contrib.summary.image('z_std', extras['z_std'][tf.newaxis,...,tf.newaxis])\n",
    "        \"\"\"\n",
    "\n",
    "    global_step += 1"
   ]
  }
 ],
 "metadata": {
  "kernelspec": {
   "display_name": "Python 3",
   "language": "python",
   "name": "python3"
  },
  "language_info": {
   "codemirror_mode": {
    "name": "ipython",
    "version": 3
   },
   "file_extension": ".py",
   "mimetype": "text/x-python",
   "name": "python",
   "nbconvert_exporter": "python",
   "pygments_lexer": "ipython3",
   "version": "3.6.9"
  }
 },
 "nbformat": 4,
 "nbformat_minor": 4
}
